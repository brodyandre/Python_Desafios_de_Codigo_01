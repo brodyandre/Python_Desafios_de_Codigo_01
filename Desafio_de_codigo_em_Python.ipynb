{
  "nbformat": 4,
  "nbformat_minor": 0,
  "metadata": {
    "colab": {
      "provenance": [],
      "toc_visible": true,
      "include_colab_link": true
    },
    "kernelspec": {
      "name": "python3",
      "display_name": "Python 3"
    },
    "language_info": {
      "name": "python"
    }
  },
  "cells": [
    {
      "cell_type": "markdown",
      "metadata": {
        "id": "view-in-github",
        "colab_type": "text"
      },
      "source": [
        "<a href=\"https://colab.research.google.com/github/brodyandre/Python_Desafios_de_Codigo_01/blob/main/Desafio_de_codigo_em_Python.ipynb\" target=\"_parent\"><img src=\"https://colab.research.google.com/assets/colab-badge.svg\" alt=\"Open In Colab\"/></a>"
      ]
    },
    {
      "cell_type": "markdown",
      "source": [
        "# Sobre o notebook\n",
        "\n",
        "A \"hora da prática\" é uma atividade do curso de Python para Data Science da Alura que contém diversos desafios envolvendo os aprendizados de cada aula.\n",
        "\n",
        "O notebook \"hora da pratica\" é um notebook construído com espaço para as células dos desafios propostos no curso, com ele você tem espaço para construir e executar suas soluções"
      ],
      "metadata": {
        "id": "_kwAaQ36gLQ1"
      }
    },
    {
      "cell_type": "markdown",
      "source": [
        "## Aula 1 - Introdução ao Python"
      ],
      "metadata": {
        "id": "Mc-KN0dA0Z83"
      }
    },
    {
      "cell_type": "markdown",
      "source": [
        "### Questão 1\n",
        "\n",
        "Imprima a frase `Escola de Dados da Alura!`"
      ],
      "metadata": {
        "id": "l5eLWf0W0ikn"
      }
    },
    {
      "cell_type": "code",
      "source": [
        "print (' Escola de Dados da Alura!')"
      ],
      "metadata": {
        "id": "5pllxJ0h0-yA",
        "colab": {
          "base_uri": "https://localhost:8080/"
        },
        "outputId": "2acaaf3a-48a5-4967-ec19-6a239a70540c"
      },
      "execution_count": null,
      "outputs": [
        {
          "output_type": "stream",
          "name": "stdout",
          "text": [
            " Escola de Dados da Alura!\n"
          ]
        }
      ]
    },
    {
      "cell_type": "markdown",
      "source": [
        "### Questão 2\n",
        "Imprima na tela seu nome e seu sobrenome seguindo a estrutura abaixo:\n",
        "```\n",
        "Nome: [seu nome]\n",
        "Sobrenome: [seu sobrenome]\n",
        "```\n"
      ],
      "metadata": {
        "id": "tQdX90Ue03c7"
      }
    },
    {
      "cell_type": "code",
      "source": [
        "# defina seu nome e sobrenome\n",
        "nome = 'Luiz'\n",
        "sobrenome = 'André'\n",
        "\n",
        "# imprima na tela\n",
        "print(f'Nome: {nome}')\n",
        "print(f'Sobrenome: {sobrenome}')"
      ],
      "metadata": {
        "id": "RVw5iKn20_Ps",
        "colab": {
          "base_uri": "https://localhost:8080/"
        },
        "outputId": "b91dd793-1494-480b-9bec-ff437b5b9684"
      },
      "execution_count": null,
      "outputs": [
        {
          "output_type": "stream",
          "name": "stdout",
          "text": [
            "Nome: Luiz\n",
            "Sobrenome: André\n"
          ]
        }
      ]
    },
    {
      "cell_type": "markdown",
      "source": [
        "### Questão 3\n",
        "Imprima o seu primeiro nome letra a letra. Por exemplo, nome é Mirla, então eu obtenho a seguinte saída:\n",
        "```\n",
        "M\n",
        "I\n",
        "R\n",
        "L\n",
        "A\n",
        "```\n"
      ],
      "metadata": {
        "id": "gfg-aiip03vC"
      }
    },
    {
      "cell_type": "code",
      "source": [
        "# Defina seu primeiro nome\n",
        "primeiro_nome = 'Luiz'\n",
        "\n",
        "#imprima cada letra do nome em uma nova linha\n",
        "for letra in primeiro_nome:\n",
        "  print(letra.upper())"
      ],
      "metadata": {
        "id": "v5bkrgf60_qx",
        "colab": {
          "base_uri": "https://localhost:8080/"
        },
        "outputId": "a95fb5ea-4f92-406d-85f9-3ab1e0f105ed"
      },
      "execution_count": null,
      "outputs": [
        {
          "output_type": "stream",
          "name": "stdout",
          "text": [
            "L\n",
            "U\n",
            "I\n",
            "Z\n"
          ]
        }
      ]
    },
    {
      "cell_type": "markdown",
      "source": [
        "### Questão 4\n",
        "Imprima o dia do seu nascimento em formato `dia mês ano`. Os valores de dia e ano não podem estar entre aspas. O formato deve estar como no exemplo, supondo uma data de aniversário dia 28 de fevereiro de 2003:\n",
        "```\n",
        "28 fevereiro 2003\n",
        "```"
      ],
      "metadata": {
        "id": "oadrJbl704MM"
      }
    },
    {
      "cell_type": "code",
      "source": [
        "# Defina dia, mês e o ano do seu nascimento\n",
        "dia = 11\n",
        "mes = 'fevereiro'\n",
        "ano = 1979\n",
        "\n",
        "# imprima a data no formato desejado\n",
        "print(dia, mes, ano)"
      ],
      "metadata": {
        "id": "cx0KSsrq1ALD",
        "colab": {
          "base_uri": "https://localhost:8080/"
        },
        "outputId": "671fd32c-ee21-4144-d220-7a1612a2f7da"
      },
      "execution_count": null,
      "outputs": [
        {
          "output_type": "stream",
          "name": "stdout",
          "text": [
            "11 fevereiro 1979\n"
          ]
        }
      ]
    },
    {
      "cell_type": "markdown",
      "source": [
        "### Questão 5\n",
        "Imprima em um único print o atual ano que você está fazendo esse curso, o valor do ano deve ser um dado numérico. A saída do print deve ser a seguinte:\n",
        "```\n",
        "Ano atual: [ano]\n",
        "```\n"
      ],
      "metadata": {
        "id": "3RgyMaan04TD"
      }
    },
    {
      "cell_type": "code",
      "execution_count": null,
      "metadata": {
        "id": "UN77EfQ2d36Y",
        "colab": {
          "base_uri": "https://localhost:8080/"
        },
        "outputId": "5fe8c1b6-9fae-4a4c-ef01-74fd06c8cc7f"
      },
      "outputs": [
        {
          "output_type": "stream",
          "name": "stdout",
          "text": [
            "Ano atual: 2025\n"
          ]
        }
      ],
      "source": [
        "# Defina o ano atual\n",
        "ano_atual = 2025\n",
        "\n",
        "#Imprimindo o ano em um único print\n",
        "print(f'Ano atual: {ano_atual}')"
      ]
    },
    {
      "cell_type": "markdown",
      "source": [
        "## Aula 2 - Manipulando dados no Python"
      ],
      "metadata": {
        "id": "D9e3FqhO1S3X"
      }
    },
    {
      "cell_type": "markdown",
      "source": [
        "### Coleta e amostragem de dados"
      ],
      "metadata": {
        "id": "n6o7C1Ze2cRe"
      }
    },
    {
      "cell_type": "markdown",
      "source": [
        "#### Questão 1\n",
        "Crie um programa que solicite à pessoa usuária digitar seu nome, e imprima “Olá, [nome]!”."
      ],
      "metadata": {
        "id": "sRneWag9PV5Q"
      }
    },
    {
      "cell_type": "code",
      "source": [
        "# Solicita ao usuário que digite o seu nome e após tecle enter\n",
        "nome = input('Digite seu nome:')\n",
        "\n",
        "#Imprime a saudação\n",
        "print(f\"Olá, {nome}!\")"
      ],
      "metadata": {
        "id": "dbX1fKqy2HnE",
        "colab": {
          "base_uri": "https://localhost:8080/"
        },
        "outputId": "9c36ceb5-de9a-4a11-9fbb-caf8e96d75a5"
      },
      "execution_count": null,
      "outputs": [
        {
          "output_type": "stream",
          "name": "stdout",
          "text": [
            "Digite seu nome:Luiz\n",
            "Olá, Luiz!\n"
          ]
        }
      ]
    },
    {
      "cell_type": "markdown",
      "source": [
        "#### Questão 2\n",
        "Crie um programa que solicite à pessoa usuária digitar seu nome e idade, e imprima “Olá, [nome], você tem [idade] anos.”."
      ],
      "metadata": {
        "id": "BJ1SznEp70d5"
      }
    },
    {
      "cell_type": "code",
      "source": [
        "# Solicita ao usuário que digite seu nome\n",
        "nome = input(\"Digite seu nome: \")\n",
        "\n",
        "# Solicita ao usuário que digite sua idade\n",
        "idade = input(\"Digite sua idade: \")\n",
        "\n",
        "# Imprime a mensagem com o nome e a idade\n",
        "print(f\"Olá, {nome}, você tem {idade} anos.\")"
      ],
      "metadata": {
        "id": "jKz-0Sq8PFkp",
        "colab": {
          "base_uri": "https://localhost:8080/"
        },
        "outputId": "7b98a199-74e9-4791-ac35-cfb9aa3c288f"
      },
      "execution_count": null,
      "outputs": [
        {
          "output_type": "stream",
          "name": "stdout",
          "text": [
            "Digite seu nome: Luiz\n",
            "Digite sua idade: 46\n",
            "Olá, Luiz, você tem 46 anos.\n"
          ]
        }
      ]
    },
    {
      "cell_type": "markdown",
      "source": [
        "#### Questão 3\n",
        "Crie um programa que solicite à pessoa usuária digitar seu nome, idade e altura em metros, e imprima “Olá, [nome], você tem [idade] anos e mede [altura] metros!”."
      ],
      "metadata": {
        "id": "2T0jNYZt70aa"
      }
    },
    {
      "cell_type": "code",
      "source": [
        "# Solicita ao usuário que digite seu nome\n",
        "nome = input(\"Digite seu nome: \")\n",
        "\n",
        "# Solicita ao usuário que digite sua idade\n",
        "idade = input(\"Digite sua idade: \")\n",
        "\n",
        "# Solicita ao usuário que digite sua altura em metros\n",
        "altura = input(\"Digite sua altura em metros: \")\n",
        "\n",
        "# Imprime a mensagem com o nome, idade e altura\n",
        "print(f\"Olá, {nome}, você tem {idade} anos e mede {altura} metros!\")"
      ],
      "metadata": {
        "id": "pI4kHNzTPIXh",
        "colab": {
          "base_uri": "https://localhost:8080/"
        },
        "outputId": "1b3420be-7a09-4f68-87ed-6bc139ebfeab"
      },
      "execution_count": null,
      "outputs": [
        {
          "output_type": "stream",
          "name": "stdout",
          "text": [
            "Digite seu nome: Luiz\n",
            "Digite sua idade: 46\n",
            "Digite sua altura em metros: 1,75\n",
            "Olá, Luiz, você tem 46 anos e mede 1,75 metros!\n"
          ]
        }
      ]
    },
    {
      "cell_type": "markdown",
      "source": [
        "### Calculadora com operadores"
      ],
      "metadata": {
        "id": "mEBFwKkC70KP"
      }
    },
    {
      "cell_type": "markdown",
      "source": [
        "#### Questão 1\n",
        "\n",
        "Crie um programa que solicite dois valores numéricos à pessoa usuária e imprima a soma dos dois valores."
      ],
      "metadata": {
        "id": "H-IV1oAPPSqK"
      }
    },
    {
      "cell_type": "code",
      "source": [
        "# Solicita ao usuário que digite o primeiro valor\n",
        "valor1 = float(input(\"Digite o primeiro valor: \").replace(',', '.'))\n",
        "\n",
        "# Solicita ao usuário que digite o segundo valor\n",
        "valor2 = float(input(\"Digite o segundo valor: \").replace(',', '.'))\n",
        "\n",
        "# Calcula a soma dos dois valores\n",
        "soma = valor1 + valor2\n",
        "\n",
        "# Imprime a soma\n",
        "print(f\"A soma de {valor1} e {valor2} é {soma}.\")"
      ],
      "metadata": {
        "id": "Zb0W84sy8rnp",
        "colab": {
          "base_uri": "https://localhost:8080/"
        },
        "outputId": "5450e541-8281-49b9-b3f0-96750323ddf8"
      },
      "execution_count": null,
      "outputs": [
        {
          "output_type": "stream",
          "name": "stdout",
          "text": [
            "Digite o primeiro valor: 2.6\n",
            "Digite o segundo valor: 29.987\n",
            "A soma de 2.6 e 29.987 é 32.586999999999996.\n"
          ]
        }
      ]
    },
    {
      "cell_type": "markdown",
      "source": [
        "#### Questão 2\n",
        "Crie um programa que solicite três valores numéricos à pessoa usuária e imprima a soma dos três valores."
      ],
      "metadata": {
        "id": "LUoi2MOu70Em"
      }
    },
    {
      "cell_type": "code",
      "source": [
        "# Solicita ao usuário que digite o primeiro valor\n",
        "valor1 = float(input(\"Digite o primeiro valor: \").replace(',', '.'))\n",
        "\n",
        "# Solicita ao usuário que digite o segundo valor\n",
        "valor2 = float(input(\"Digite o segundo valor: \").replace(',', '.'))\n",
        "\n",
        "# Solicita ao usuário que digite o terceiro valor\n",
        "valor3 = float(input(\"Digite o terceiro valor: \").replace(',', '.'))\n",
        "\n",
        "# Calcula a soma dos dois valores\n",
        "soma = valor1 + valor2 + valor3\n",
        "\n",
        "# Imprime a soma\n",
        "print(f\"A soma de {valor1} mais {valor2} mais {valor3} é igual a {soma}.\")"
      ],
      "metadata": {
        "id": "4FYjWyBS8rDm",
        "colab": {
          "base_uri": "https://localhost:8080/"
        },
        "outputId": "2dc74ddc-b8f2-4edf-c429-425ca1ee4cf4"
      },
      "execution_count": null,
      "outputs": [
        {
          "output_type": "stream",
          "name": "stdout",
          "text": [
            "Digite o primeiro valor: 2,5\n",
            "Digite o segundo valor: 2,8\n",
            "Digite o terceiro valor: 3,745\n",
            "A soma de 2.5 mais 2.8 mais 3.745 é igual a 9.045.\n"
          ]
        }
      ]
    },
    {
      "cell_type": "markdown",
      "source": [
        "#### Questão 3\n",
        "Crie um programa que solicite dois valores numéricos à pessoa usuária e imprima a subtração do primeiro pelo o segundo valor."
      ],
      "metadata": {
        "id": "lezGctF07z8i"
      }
    },
    {
      "cell_type": "code",
      "source": [
        "# Solicita ao usuário que digite o primeiro valor\n",
        "valor1 = input(\"Digite o primeiro valor: \").replace(',', '.')\n",
        "\n",
        "# Solicita ao usuário que digite o segundo valor\n",
        "valor2 = input(\"Digite o segundo valor: \").replace(',', '.')\n",
        "\n",
        "# Converte os valores para float\n",
        "valor1 = float(valor1)\n",
        "valor2 = float(valor2)\n",
        "\n",
        "# Calcula a subtração do primeiro valor pelo segundo\n",
        "subtracao = valor1 - valor2\n",
        "\n",
        "# Imprime o resultado da subtração\n",
        "print(f\"A subtração de {valor1} pelo {valor2} é {subtracao}.\")"
      ],
      "metadata": {
        "id": "k0GE1z4w8p3J",
        "colab": {
          "base_uri": "https://localhost:8080/"
        },
        "outputId": "92332ec3-3160-44d4-af86-8dbba03a48a0"
      },
      "execution_count": null,
      "outputs": [
        {
          "output_type": "stream",
          "name": "stdout",
          "text": [
            "Digite o primeiro valor: 2,5\n",
            "Digite o segundo valor: 3\n",
            "A subtração de 2.5 pelo 3.0 é -0.5.\n"
          ]
        }
      ]
    },
    {
      "cell_type": "markdown",
      "source": [
        "#### Questão 4\n",
        "\n",
        "Crie um programa que solicite dois valores numéricos à pessoa usuária e imprima a multiplicação dos dois valores.\n"
      ],
      "metadata": {
        "id": "wwMP-dPU7zxW"
      }
    },
    {
      "cell_type": "code",
      "source": [
        "# Solicita ao usuário que digite o primeiro valor\n",
        "valor1 = input(\"Digite o primeiro valor: \").replace(',', '.')\n",
        "\n",
        "# Solicita ao usuário que digite o segundo valor\n",
        "valor2 = input(\"Digite o segundo valor: \").replace(',', '.')\n",
        "\n",
        "# Converte os valores para float\n",
        "valor1 = float(valor1)\n",
        "valor2 = float(valor2)\n",
        "\n",
        "# Calcula a multiplicação dos dois valores\n",
        "multiplicacao = valor1 * valor2\n",
        "\n",
        "# Arredonda o resultado para duas casas decimais\n",
        "multiplicacao_arredondada = round(multiplicacao, 2)\n",
        "\n",
        "# Imprime o resultado da multiplicação\n",
        "print(f\"A multiplicação de {valor1:.2f} pelo {valor2:.2f} é {multiplicacao_arredondada:.2f}.\")"
      ],
      "metadata": {
        "id": "GzFCVHfp8peZ",
        "colab": {
          "base_uri": "https://localhost:8080/"
        },
        "outputId": "fd0a67c5-5e73-47e9-95e9-d12b671f9c34"
      },
      "execution_count": null,
      "outputs": [
        {
          "output_type": "stream",
          "name": "stdout",
          "text": [
            "Digite o primeiro valor: 1,25\n",
            "Digite o segundo valor: 2,345\n",
            "A multiplicação de 1.25 pelo 2.35 é 2.93.\n"
          ]
        }
      ]
    },
    {
      "cell_type": "markdown",
      "source": [
        "#### Questão 5\n",
        "\n",
        "Crie um programa que solicite dois valores numéricos, um numerador e um denominador, e realize a divisão entre os dois valores. Deixe claro que o valor do denominador não pode ser `0`.\n"
      ],
      "metadata": {
        "id": "9kxyHxUo7zRD"
      }
    },
    {
      "cell_type": "code",
      "source": [
        "# Solicita ao usuário que digite o numerador\n",
        "numerador = float(input(\"Digite o numerador: \"))\n",
        "\n",
        "# Loop para garantir que o denominador não seja zero\n",
        "while True:\n",
        "    # Solicita ao usuário que digite o denominador\n",
        "    denominador = float(input(\"Digite o denominador (não pode ser 0): \"))\n",
        "\n",
        "    # Verifica se o denominador é zero\n",
        "    if denominador == 0:\n",
        "        print(\"Erro: O denominador não pode ser 0. Por favor, tente novamente.\")\n",
        "    else:\n",
        "        # Realiza a divisão\n",
        "        resultado = numerador / denominador\n",
        "        # Imprime o resultado da divisão\n",
        "        print(f\"A divisão de {numerador} por {denominador} é {resultado}.\")\n",
        "        break  # Sai do loop se a divisão for bem-sucedida"
      ],
      "metadata": {
        "id": "ytJ8l5KH8ozc",
        "colab": {
          "base_uri": "https://localhost:8080/"
        },
        "outputId": "85b93d97-3b12-43e3-9984-a6a040a9bb40"
      },
      "execution_count": null,
      "outputs": [
        {
          "output_type": "stream",
          "name": "stdout",
          "text": [
            "Digite o numerador: 1\n",
            "Digite o denominador (não pode ser 0): 0\n",
            "Erro: O denominador não pode ser 0. Por favor, tente novamente.\n",
            "Digite o denominador (não pode ser 0): 0\n",
            "Erro: O denominador não pode ser 0. Por favor, tente novamente.\n",
            "Digite o denominador (não pode ser 0): 10\n",
            "A divisão de 1.0 por 10.0 é 0.1.\n"
          ]
        }
      ]
    },
    {
      "cell_type": "markdown",
      "source": [
        "#### Questão 6\n",
        "\n",
        "Crie um programa que solicite dois valores numéricos, um operador e uma potência, e realize a exponenciação entre esses dois valores.\n"
      ],
      "metadata": {
        "id": "zkUSBTQq8Hxt"
      }
    },
    {
      "cell_type": "code",
      "source": [
        "# Solicita ao usuário que digite o primeiro valor\n",
        "base = float(input(\"Digite a base (primeiro valor): \"))\n",
        "\n",
        "# Solicita ao usuário que digite o segundo valor\n",
        "expoente = float(input(\"Digite o expoente (segundo valor): \"))\n",
        "\n",
        "# Realiza a exponenciação\n",
        "resultado = base ** expoente\n",
        "\n",
        "# Imprime o resultado da exponenciação\n",
        "print(f\"O resultado de {base} elevado a {expoente} é {resultado}.\")"
      ],
      "metadata": {
        "id": "RPj36jq08oZp",
        "colab": {
          "base_uri": "https://localhost:8080/"
        },
        "outputId": "dc72850d-090d-439b-db56-23a333ef7fac"
      },
      "execution_count": null,
      "outputs": [
        {
          "output_type": "stream",
          "name": "stdout",
          "text": [
            "Digite a base (primeiro valor): 3\n",
            "Digite o expoente (segundo valor): 2\n",
            "O resultado de 3.0 elevado a 2.0 é 9.0.\n"
          ]
        }
      ]
    },
    {
      "cell_type": "markdown",
      "source": [
        "#### Questão 7\n",
        "Crie um programa que solicite dois valores numéricos, um numerador e um denominador e realize a divisão inteira entre os dois valores. Deixe claro que o valor do denominador não pode ser `0`."
      ],
      "metadata": {
        "id": "yiunIusZ8Huj"
      }
    },
    {
      "cell_type": "code",
      "source": [
        "# Loop para garantir que o denominador não seja zero\n",
        "while True:\n",
        "    # Solicita ao usuário que digite o numerador\n",
        "    numerador = int(input(\"Digite o numerador: \"))\n",
        "\n",
        "    # Solicita ao usuário que digite o denominador\n",
        "    denominador = int(input(\"Digite o denominador (não pode ser 0): \"))\n",
        "\n",
        "    # Verifica se o denominador é zero\n",
        "    if denominador == 0:\n",
        "        print(\"Erro: O denominador não pode ser 0. Por favor, tente novamente.\")\n",
        "    else:\n",
        "        # Realiza a divisão inteira\n",
        "        divisao_inteira = numerador // denominador\n",
        "        # Imprime o resultado da divisão inteira\n",
        "        print(f\"A divisão inteira de {numerador} por {denominador} é {divisao_inteira}.\")\n",
        "        break  # Sai do loop se a divisão for bem-sucedida"
      ],
      "metadata": {
        "id": "UHK8xITf8oCg",
        "colab": {
          "base_uri": "https://localhost:8080/"
        },
        "outputId": "eb9f87b5-da23-4007-fb32-07971476a4cb"
      },
      "execution_count": null,
      "outputs": [
        {
          "output_type": "stream",
          "name": "stdout",
          "text": [
            "Digite o numerador: 1\n",
            "Digite o denominador (não pode ser 0): 0\n",
            "Erro: O denominador não pode ser 0. Por favor, tente novamente.\n",
            "Digite o numerador: 0\n",
            "Digite o denominador (não pode ser 0): 3\n",
            "A divisão inteira de 0 por 3 é 0.\n"
          ]
        }
      ]
    },
    {
      "cell_type": "markdown",
      "source": [
        "#### Questão 8\n",
        "\n",
        "Crie um programa que solicite dois valores numéricos, um numerador e um denominador, e retorne o resto da divisão entre os dois valores. Deixe claro que o valor do denominador não pode ser `0`."
      ],
      "metadata": {
        "id": "z_D_JiLX8Hra"
      }
    },
    {
      "cell_type": "code",
      "source": [
        "# Loop para garantir que o denominador não seja zero\n",
        "while True:\n",
        "    # Solicita ao usuário que digite o numerador\n",
        "    numerador = int(input(\"Digite o numerador: \"))\n",
        "\n",
        "    # Solicita ao usuário que digite o denominador\n",
        "    denominador = int(input(\"Digite o denominador (não pode ser 0): \"))\n",
        "\n",
        "    # Verifica se o denominador é zero\n",
        "    if denominador == 0:\n",
        "        print(\"Erro: O denominador não pode ser 0. Por favor, tente novamente.\")\n",
        "    else:\n",
        "        # Realiza a operação de resto da divisão\n",
        "        resto = numerador % denominador\n",
        "        # Imprime o resultado do resto da divisão\n",
        "        print(f\"O resto da divisão de {numerador} por {denominador} é {resto}.\")\n",
        "        break  # Sai do loop se a operação for bem-sucedida"
      ],
      "metadata": {
        "id": "EWGJeukO8nqx",
        "colab": {
          "base_uri": "https://localhost:8080/"
        },
        "outputId": "f86b02cc-3fd6-437b-9c3b-ab952862eae1"
      },
      "execution_count": null,
      "outputs": [
        {
          "output_type": "stream",
          "name": "stdout",
          "text": [
            "Digite o numerador: 7\n",
            "Digite o denominador (não pode ser 0): 2\n",
            "O resto da divisão de 7 por 2 é 1.\n"
          ]
        }
      ]
    },
    {
      "cell_type": "markdown",
      "source": [
        "#### Questão 9\n",
        "\n",
        "Crie um código que solicita 3 notas de um estudante e imprima a média das notas."
      ],
      "metadata": {
        "id": "RDRajNkU8N8N"
      }
    },
    {
      "cell_type": "code",
      "source": [
        "nota1 = float(input('Digite a primeira nota: ').replace(',', '.' ))\n",
        "nota2 = float(input('Digite a segunda nota: ').replace(',', '.' ))\n",
        "nota3 = float(input('Digite a terceira nota:').replace(',', '.' ))\n",
        "\n",
        "media = (nota1 + nota2 +nota3) / 3\n",
        "\n",
        "print(f'A média das notas é: {media}')"
      ],
      "metadata": {
        "id": "H6F4Ojzt8nSR",
        "colab": {
          "base_uri": "https://localhost:8080/"
        },
        "outputId": "2e6dbc11-514e-441f-9d1c-af5f9f79ba05"
      },
      "execution_count": null,
      "outputs": [
        {
          "output_type": "stream",
          "name": "stdout",
          "text": [
            "Digite a primeira nota: 8,5\n",
            "Digite a segunda nota: 5,2\n",
            "Digite a terceira nota:9,7\n",
            "A média das notas é: 7.8\n"
          ]
        }
      ]
    },
    {
      "cell_type": "markdown",
      "source": [
        "#### Questão 10\n",
        "\n",
        "Crie um código que calcule e imprima a média ponderada dos números 5, 12, 20 e 15 com pesos respectivamente iguais a 1, 2, 3 e 4."
      ],
      "metadata": {
        "id": "d7fjkne58N21"
      }
    },
    {
      "cell_type": "code",
      "source": [
        "# Definindo os números e seus pesos\n",
        "numeros = [5, 12, 20, 15]\n",
        "pesos = [1, 2, 3, 4]\n",
        "\n",
        "# Calculando a soma dos produtos dos números pelos seus pesos\n",
        "soma_produtos = sum(n * p for n, p in zip(numeros, pesos))\n",
        "\n",
        "# Calculando a soma dos pesos\n",
        "soma_pesos = sum(pesos)\n",
        "\n",
        "# Calculando a média ponderada\n",
        "media_ponderada = soma_produtos / soma_pesos\n",
        "\n",
        "# Imprimindo o resultado\n",
        "print(f'A média ponderada é: {media_ponderada:.2f}')"
      ],
      "metadata": {
        "id": "fwjoHlV48mkv",
        "colab": {
          "base_uri": "https://localhost:8080/"
        },
        "outputId": "d4f9e10e-04b6-42a5-f0c8-426854e96d10"
      },
      "execution_count": null,
      "outputs": [
        {
          "output_type": "stream",
          "name": "stdout",
          "text": [
            "A média ponderada é: 14.90\n"
          ]
        }
      ]
    },
    {
      "cell_type": "markdown",
      "source": [
        "### Editando textos"
      ],
      "metadata": {
        "id": "GNmbX1OU8N0V"
      }
    },
    {
      "cell_type": "markdown",
      "source": [
        "#### Questão 1\n",
        "\n",
        "Crie uma variável chamada “`frase`” e atribua a ela uma string de sua escolha. Em seguida, imprima a frase na tela."
      ],
      "metadata": {
        "id": "6wZ85mCsRCV0"
      }
    },
    {
      "cell_type": "code",
      "source": [
        "frase = \"Um país se faz através de livros e homens (ou mulheres)\"\n",
        "\n",
        "print(frase)"
      ],
      "metadata": {
        "id": "eRqr_gh-8mFy",
        "colab": {
          "base_uri": "https://localhost:8080/"
        },
        "outputId": "4761c476-f9b1-4da5-8562-f8b2f453c11f"
      },
      "execution_count": null,
      "outputs": [
        {
          "output_type": "stream",
          "name": "stdout",
          "text": [
            "um país se faz através de livros e homens (ou mulheres)\n"
          ]
        }
      ]
    },
    {
      "cell_type": "markdown",
      "source": [
        "#### Questão 2\n",
        "Crie um código que solicite uma frase e depois imprima a frase na tela."
      ],
      "metadata": {
        "id": "Aac17z-18Nwv"
      }
    },
    {
      "cell_type": "code",
      "source": [
        "frase = input('Digite uma frase: ')\n",
        "\n",
        "print(frase)"
      ],
      "metadata": {
        "id": "8zfE2hh98lb0",
        "colab": {
          "base_uri": "https://localhost:8080/"
        },
        "outputId": "1209a95d-7f3e-4301-c891-3d93c2159d33"
      },
      "execution_count": null,
      "outputs": [
        {
          "output_type": "stream",
          "name": "stdout",
          "text": [
            "Digite uma frase: testando o codigo com entra de uma frase\n",
            "testando o codigo com entra de uma frase\n"
          ]
        }
      ]
    },
    {
      "cell_type": "markdown",
      "source": [
        "#### Questão 3\n",
        "\n",
        "Crie um código que solicite uma frase à pessoa usuária e imprima a mesma frase digitada mas com todas as letras maiúsculas."
      ],
      "metadata": {
        "id": "DXVzqpN58Ntr"
      }
    },
    {
      "cell_type": "code",
      "source": [
        "frase = input('Digite uma frase: ')\n",
        "\n",
        "print(frase.upper())"
      ],
      "metadata": {
        "id": "d0VzoYP68k-I",
        "colab": {
          "base_uri": "https://localhost:8080/"
        },
        "outputId": "f223694e-08b4-4a0d-cd00-7c06bf204538"
      },
      "execution_count": null,
      "outputs": [
        {
          "output_type": "stream",
          "name": "stdout",
          "text": [
            "Digite uma frase: testando ocódigo\n",
            "TESTANDO OCÓDIGO\n"
          ]
        }
      ]
    },
    {
      "cell_type": "markdown",
      "source": [
        "#### Questão 4\n",
        "\n",
        "Crie um código que solicite uma frase à pessoa usuária e imprima a mesma frase digitada mas com todas as letras minúsculas."
      ],
      "metadata": {
        "id": "I12VeNPK8Nqb"
      }
    },
    {
      "cell_type": "code",
      "source": [
        "frase = input('Digite uma frase: ')\n",
        "\n",
        "print(frase.lower())"
      ],
      "metadata": {
        "id": "KD8rNy2K8kox",
        "colab": {
          "base_uri": "https://localhost:8080/"
        },
        "outputId": "42e5eb54-175b-46f1-8899-b5589c7bf084"
      },
      "execution_count": null,
      "outputs": [
        {
          "output_type": "stream",
          "name": "stdout",
          "text": [
            "Digite uma frase: TesTanDO o CODIGO\n",
            "testando o codigo\n"
          ]
        }
      ]
    },
    {
      "cell_type": "markdown",
      "source": [
        "#### Questão 5\n",
        "\n",
        "Crie uma variável chamada “`frase`” e atribua a ela uma string de sua escolha. Em seguida, imprima a frase sem espaços em branco no início e no fim."
      ],
      "metadata": {
        "id": "cRqngSE48Nog"
      }
    },
    {
      "cell_type": "code",
      "source": [
        "frase = \"                   Um país se faz através de livros e homens (ou mulheres)  \"\n",
        "\n",
        "print(frase.strip())"
      ],
      "metadata": {
        "id": "aSCpdF-o8kBs",
        "colab": {
          "base_uri": "https://localhost:8080/"
        },
        "outputId": "b0a3b643-9601-46a0-e7b8-031fbbf6e8cb"
      },
      "execution_count": null,
      "outputs": [
        {
          "output_type": "stream",
          "name": "stdout",
          "text": [
            "Um país se faz através de livros e homens (ou mulheres)\n"
          ]
        }
      ]
    },
    {
      "cell_type": "markdown",
      "source": [
        "#### Questão 6\n",
        "\n",
        "Crie um código que solicite uma frase à pessoa usuária e imprima a mesma frase sem espaços em branco no início e no fim."
      ],
      "metadata": {
        "id": "murIazpQ8Nkv"
      }
    },
    {
      "cell_type": "code",
      "source": [
        "frase = input('Digite uma frase: ')\n",
        "\n",
        "print(frase.strip())"
      ],
      "metadata": {
        "id": "tHunjwuG8jNq",
        "colab": {
          "base_uri": "https://localhost:8080/"
        },
        "outputId": "84f37197-8f59-470d-d6d5-0bedbd0c0b1b"
      },
      "execution_count": null,
      "outputs": [
        {
          "output_type": "stream",
          "name": "stdout",
          "text": [
            "Digite uma frase:         testando do codigo\n",
            "testando do codigo\n"
          ]
        }
      ]
    },
    {
      "cell_type": "markdown",
      "source": [
        "#### Questão 7\n",
        "\n",
        "\n",
        "Crie um código que solicite uma frase à pessoa usuária e imprima a mesma frase sem espaços em branco no início e no fim e em letras minúsculas."
      ],
      "metadata": {
        "id": "eRxc2OeX8Nh2"
      }
    },
    {
      "cell_type": "code",
      "source": [
        "frase = input('Digite uma frase: ')\n",
        "\n",
        "print(frase.strip().lower())"
      ],
      "metadata": {
        "id": "DYm0_UwS8ih6",
        "colab": {
          "base_uri": "https://localhost:8080/"
        },
        "outputId": "a681bab6-64b3-4f2d-aca4-f08a8e4cb418"
      },
      "execution_count": null,
      "outputs": [
        {
          "output_type": "stream",
          "name": "stdout",
          "text": [
            "Digite uma frase:          TEStaNdo o CoDIGO\n",
            "testando o codigo\n"
          ]
        }
      ]
    },
    {
      "cell_type": "markdown",
      "source": [
        "#### Questão 8\n",
        "\n",
        "Crie um código que solicite uma frase à pessoa usuária e imprima a mesma frase com todas as vogais “`e`” trocadas pela letra “`f`”."
      ],
      "metadata": {
        "id": "UKATLavs8NfI"
      }
    },
    {
      "cell_type": "code",
      "source": [
        "frase = input('Digite uma frase: ')\n",
        "\n",
        "print(frase.replace('e', 'f'))"
      ],
      "metadata": {
        "id": "k64C5G5S8iLO",
        "colab": {
          "base_uri": "https://localhost:8080/"
        },
        "outputId": "2570fe67-b475-49de-eb98-3937c21ce290"
      },
      "execution_count": null,
      "outputs": [
        {
          "output_type": "stream",
          "name": "stdout",
          "text": [
            "Digite uma frase: Você eoi viajar?\n",
            "Você foi viajar?\n"
          ]
        }
      ]
    },
    {
      "cell_type": "markdown",
      "source": [
        "#### Questão 9\n",
        "\n",
        "\n",
        "Crie um código que solicite uma frase à pessoa usuária e imprima a mesma frase com todas as vogais “`a`” trocadas pela caractere  “`@`”."
      ],
      "metadata": {
        "id": "n_1SPchw8NdG"
      }
    },
    {
      "cell_type": "code",
      "source": [
        "frase = input('Digite uma frase: ')\n",
        "\n",
        "print(frase.replace('a', '@'))"
      ],
      "metadata": {
        "id": "msaDNm_p8h0D",
        "colab": {
          "base_uri": "https://localhost:8080/"
        },
        "outputId": "0ae788f7-24e3-4432-f63f-980010795644"
      },
      "execution_count": null,
      "outputs": [
        {
          "output_type": "stream",
          "name": "stdout",
          "text": [
            "Digite uma frase: Anaconda e uma interface de programação Python\n",
            "An@cond@ e um@ interf@ce de progr@m@ção Python\n"
          ]
        }
      ]
    },
    {
      "cell_type": "markdown",
      "source": [
        "#### Questão 10\n",
        "\n",
        "\n",
        "Crie um código que solicite uma frase à pessoa usuária e imprima a mesma frase com todas as consoantes “`s`” trocadas pelo caractere  “`$`”."
      ],
      "metadata": {
        "id": "H3sTTjqI8Naa"
      }
    },
    {
      "cell_type": "code",
      "source": [
        "frase = input('Digite uma frase: ')\n",
        "\n",
        "print(frase.replace('s', '$'))"
      ],
      "metadata": {
        "id": "RPBIsWT68e-1",
        "colab": {
          "base_uri": "https://localhost:8080/"
        },
        "outputId": "2747e961-8844-4186-baff-31308f5e555e"
      },
      "execution_count": null,
      "outputs": [
        {
          "output_type": "stream",
          "name": "stdout",
          "text": [
            "Digite uma frase: desmistificando o cídigo\n",
            "de$mi$tificando o cídigo\n"
          ]
        }
      ]
    },
    {
      "cell_type": "markdown",
      "source": [
        "## Aula 3 - Estruturas condicionais"
      ],
      "metadata": {
        "id": "XGePe4GD2I59"
      }
    },
    {
      "cell_type": "markdown",
      "source": [
        "### Aquecendo na programação"
      ],
      "metadata": {
        "id": "Pr9HTW0UHCdD"
      }
    },
    {
      "cell_type": "markdown",
      "source": [
        "#### Questão 1\n",
        "Escreva um programa que peça à pessoa usuária para fornecer dois números e exibir o número maior."
      ],
      "metadata": {
        "id": "xBZHqhVg80Fy"
      }
    },
    {
      "cell_type": "code",
      "source": [
        "# Solicita ao usuário que forneça dois números\n",
        "numero1 = float(input(\"Digite o primeiro número: \"))\n",
        "numero2 = float(input(\"Digite o segundo número: \"))\n",
        "\n",
        "# Verifica qual número é maior\n",
        "if numero1 > numero2:\n",
        "    print(f\"O maior número é: {numero1}\")\n",
        "elif numero2 > numero1:\n",
        "    print(f\"O maior número é: {numero2}\")\n",
        "else:\n",
        "    print(\"Os números são iguais.\")"
      ],
      "metadata": {
        "id": "GJlGnzjc-xyF",
        "colab": {
          "base_uri": "https://localhost:8080/"
        },
        "outputId": "823e71b9-401f-43aa-8f2d-c7b1d65e8657"
      },
      "execution_count": null,
      "outputs": [
        {
          "output_type": "stream",
          "name": "stdout",
          "text": [
            "Digite o primeiro número: 3\n",
            "Digite o segundo número: 3\n",
            "Os números são iguais.\n"
          ]
        }
      ]
    },
    {
      "cell_type": "markdown",
      "source": [
        "#### Questão 2\n",
        "Escreva um programa que solicite o percentual de crescimento de produção de uma empresa e informe se houve um crescimento (porcentagem positiva) ou decrescimento (porcentagem negativa)."
      ],
      "metadata": {
        "id": "H4sgN7dyHNJF"
      }
    },
    {
      "cell_type": "code",
      "source": [
        "def obter_percentual_crescimento():\n",
        "    while True:\n",
        "        entrada = input(\"Digite o percentual de crescimento da produção da empresa: \")\n",
        "\n",
        "        # Verifica se a entrada está vazia\n",
        "        if entrada.strip() == \"\":\n",
        "            print(\"Erro: Você não digitou nada. Por favor, insira um número.\")\n",
        "            continue\n",
        "\n",
        "        # Tenta converter a entrada para float\n",
        "        try:\n",
        "            percentual_crescimento = float(entrada)\n",
        "            return percentual_crescimento\n",
        "        except ValueError:\n",
        "            print(\"Erro: Entrada inválida. Por favor, insira um número válido.\")\n",
        "\n",
        "# Obtém o percentual de crescimento\n",
        "percentual_crescimento = obter_percentual_crescimento()\n",
        "\n",
        "# Verifica se houve crescimento ou decrescimento\n",
        "if percentual_crescimento > 0:\n",
        "    print(f\"Houve um crescimento de {percentual_crescimento} %.\")\n",
        "elif percentual_crescimento < 0:\n",
        "    print(f\"Houve um decrescimento de {abs(percentual_crescimento)} %.\")\n",
        "else:\n",
        "    print(\"Não houve crescimento nem decrescimento.\")"
      ],
      "metadata": {
        "id": "-2_Ry5XJ-yZW",
        "colab": {
          "base_uri": "https://localhost:8080/"
        },
        "outputId": "d5bf2d40-524e-4220-a150-086afe35d11b"
      },
      "execution_count": null,
      "outputs": [
        {
          "output_type": "stream",
          "name": "stdout",
          "text": [
            "Digite o percentual de crescimento da produção da empresa: \n",
            "Erro: Você não digitou nada. Por favor, insira um número.\n",
            "Digite o percentual de crescimento da produção da empresa: &\n",
            "Erro: Entrada inválida. Por favor, insira um número válido.\n",
            "Digite o percentual de crescimento da produção da empresa: :\n",
            "Erro: Entrada inválida. Por favor, insira um número válido.\n",
            "Digite o percentual de crescimento da produção da empresa: 3\n",
            "Houve um crescimento de 3.0%.\n"
          ]
        }
      ]
    },
    {
      "cell_type": "markdown",
      "source": [
        "#### Questão 3\n",
        "Escreva um programa que determine se uma letra fornecida pela pessoa usuária é uma vogal ou consoante."
      ],
      "metadata": {
        "id": "a_mzNOBDHNny"
      }
    },
    {
      "cell_type": "code",
      "source": [
        "def verificar_letra():\n",
        "    while True:\n",
        "        # Solicita ao usuário que forneça uma letra\n",
        "        letra = input(\"Digite uma letra: \").strip().lower()  # Normaliza a entrada\n",
        "\n",
        "        # Verifica se a entrada é uma única letra\n",
        "        if len(letra) == 1 and letra.isalpha():\n",
        "            # Verifica se a letra é uma vogal\n",
        "            if letra == 'a' or letra == 'e' or letra == 'i' or letra == 'o' or letra == 'u':\n",
        "                print(f\"A letra '{letra}' é uma vogal.\")\n",
        "            else:\n",
        "                print(f\"A letra '{letra}' é uma consoante.\")\n",
        "            break  # Sai do loop se a entrada for válida\n",
        "        else:\n",
        "            print(\"Erro: Por favor, digite apenas uma letra.\")\n",
        "\n",
        "# Chama a função para verificar a letra\n",
        "verificar_letra()"
      ],
      "metadata": {
        "id": "NbgndVyg-zFJ",
        "colab": {
          "base_uri": "https://localhost:8080/"
        },
        "outputId": "301c9992-8bde-4bb4-cd70-f6566bb46779"
      },
      "execution_count": null,
      "outputs": [
        {
          "output_type": "stream",
          "name": "stdout",
          "text": [
            "Digite uma letra: 4\n",
            "Erro: Por favor, digite apenas uma letra.\n",
            "Digite uma letra: ?\n",
            "Erro: Por favor, digite apenas uma letra.\n",
            "Digite uma letra: a\n",
            "A letra 'a' é uma vogal.\n"
          ]
        }
      ]
    },
    {
      "cell_type": "markdown",
      "source": [
        "#### Questão 4\n",
        "Escreva um programa que leia valores médios de preços de um modelo de carro por 3 anos consecutivos e exiba o valor mais alto e mais baixo entre esses três anos."
      ],
      "metadata": {
        "id": "mofMRjSZHP99"
      }
    },
    {
      "cell_type": "code",
      "source": [
        "def ler_precos():\n",
        "    precos = []  # Lista para armazenar os preços\n",
        "\n",
        "    for ano in range(1, 4):  # Loop para 3 anos\n",
        "        while True:\n",
        "            try:\n",
        "                preco = float(input(f\"Digite o preço médio do carro no ano {ano}: \"))\n",
        "                precos.append(preco)  # Adiciona o preço à lista\n",
        "                break  # Sai do loop se a entrada for válida\n",
        "            except ValueError:\n",
        "                print(\"Erro: Por favor, insira um valor numérico válido.\")\n",
        "\n",
        "    return precos\n",
        "\n",
        "def main():\n",
        "    precos = ler_precos()  # Lê os preços\n",
        "    maior_preco = max(precos)  # Encontra o maior preço\n",
        "    menor_preco = min(precos)  # Encontra o menor preço\n",
        "\n",
        "    print(f\"O maior preço médio é: R$ {maior_preco:.2f}\")\n",
        "    print(f\"O menor preço médio é: R$ {menor_preco:.2f}\")\n",
        "\n",
        "# Chama a função principal\n",
        "main()"
      ],
      "metadata": {
        "id": "TX--d3k9-02c",
        "colab": {
          "base_uri": "https://localhost:8080/"
        },
        "outputId": "6ca759f4-8097-4ce9-9dcf-67596906412d"
      },
      "execution_count": null,
      "outputs": [
        {
          "output_type": "stream",
          "name": "stdout",
          "text": [
            "Digite o preço médio do carro no ano 1: b\n",
            "Erro: Por favor, insira um valor numérico válido.\n",
            "Digite o preço médio do carro no ano 1: >\n",
            "Erro: Por favor, insira um valor numérico válido.\n",
            "Digite o preço médio do carro no ano 1: <\n",
            "Erro: Por favor, insira um valor numérico válido.\n",
            "Digite o preço médio do carro no ano 1: ,\n",
            "Erro: Por favor, insira um valor numérico válido.\n",
            "Digite o preço médio do carro no ano 1: 5\n",
            "Digite o preço médio do carro no ano 2: 5\n",
            "Digite o preço médio do carro no ano 3: 5\n",
            "O maior preço médio é: R$ 5.00\n",
            "O menor preço médio é: R$ 5.00\n"
          ]
        }
      ]
    },
    {
      "cell_type": "markdown",
      "source": [
        "#### Questão 5\n",
        "Escreva um programa que pergunte sobre o preço de três produtos e indique qual é o produto mais barato para comprar."
      ],
      "metadata": {
        "id": "jY5tIwd-HQzc"
      }
    },
    {
      "cell_type": "code",
      "source": [
        "def obter_precos():\n",
        "    precos = []  # Lista para armazenar os preços\n",
        "\n",
        "    for i in range(1, 4):  # Loop para 3 produtos\n",
        "        while True:\n",
        "            try:\n",
        "                # Solicita o preço do produto para o usuário\n",
        "                preco = float(input(f\"Digite o preço do produto {i}: R$ \"))\n",
        "                precos.append(preco)  # Adiciona o preço à lista\n",
        "                break  # Sai do loop se a entrada for válida\n",
        "            except ValueError:\n",
        "                print(\"Erro: Por favor, insira um valor numérico válido.\")\n",
        "\n",
        "    return precos\n",
        "\n",
        "def main():\n",
        "    precos = obter_precos()  # Lê os preços dos produtos\n",
        "    menor_preco = min(precos)  # Encontra o menor preço\n",
        "\n",
        "    # Identifica o índice do menor preço\n",
        "    indice_menor_preco = precos.index(menor_preco) + 1  # +1 para ajustar ao número do produto\n",
        "\n",
        "    print(f\"O produto mais barato é o produto {indice_menor_preco} com o preço de R$ {menor_preco:.2f}.\")\n",
        "\n",
        "# Chama a função principal\n",
        "main()"
      ],
      "metadata": {
        "id": "sYqNh9df-0gk",
        "colab": {
          "base_uri": "https://localhost:8080/"
        },
        "outputId": "c63ab3cb-d1a2-4f1e-a6dc-a79c6bd38ad0"
      },
      "execution_count": null,
      "outputs": [
        {
          "output_type": "stream",
          "name": "stdout",
          "text": [
            "Digite o preço do produto 1: R$ 10\n",
            "Digite o preço do produto 2: R$ 20\n",
            "Digite o preço do produto 3: R$ 5\n",
            "O produto mais barato é o produto 3 com o preço de R$ 5.00.\n"
          ]
        }
      ]
    },
    {
      "cell_type": "markdown",
      "source": [
        "#### Questão 6\n",
        "Escreva um programa que leia três números e os exiba em ordem decrescente."
      ],
      "metadata": {
        "id": "1r6aVxtTHR4E"
      }
    },
    {
      "cell_type": "code",
      "source": [
        "def obter_numeros():\n",
        "    numeros = []  # Lista para armazenar os números\n",
        "\n",
        "    for i in range(1, 4):  # Loop para 3 números\n",
        "        while True:\n",
        "            try:\n",
        "                # Solicita um número ao usuário\n",
        "                numero = float(input(f\"Digite o {i}º número: \"))\n",
        "                numeros.append(numero)  # Adiciona o número à lista\n",
        "                break  # Sai do loop se a entrada for válida\n",
        "            except ValueError:\n",
        "                print(\"Erro: Por favor, insira um valor numérico válido.\")\n",
        "\n",
        "    return numeros\n",
        "\n",
        "def main():\n",
        "    numeros = obter_numeros()  # Lê os números\n",
        "    numeros.sort(reverse=True)  # Ordena os números em ordem decrescente\n",
        "\n",
        "    print(\"Os números em ordem decrescente são:\")\n",
        "    for numero in numeros:\n",
        "        print(numero)\n",
        "\n",
        "# Chama a função principal\n",
        "main()"
      ],
      "metadata": {
        "id": "ydOCYUMO-0Hk",
        "colab": {
          "base_uri": "https://localhost:8080/"
        },
        "outputId": "fa05a71d-95af-47d2-9cca-da4a108b5179"
      },
      "execution_count": null,
      "outputs": [
        {
          "output_type": "stream",
          "name": "stdout",
          "text": [
            "Digite o 1º número: 2\n",
            "Digite o 2º número: 100\n",
            "Digite o 3º número: 6\n",
            "Os números em ordem decrescente são:\n",
            "100.0\n",
            "6.0\n",
            "2.0\n"
          ]
        }
      ]
    },
    {
      "cell_type": "markdown",
      "source": [
        "#### Questão 7\n",
        "Escreva um programa que pergunte em qual turno a pessoa usuária estuda (\"manhã\", \"tarde\" ou \"noite\") e exiba a mensagem \"Bom Dia!\", \"Boa Tarde!\", \"Boa Noite!\", ou \"Valor Inválido!\", conforme o caso."
      ],
      "metadata": {
        "id": "inW3F-hAHS_X"
      }
    },
    {
      "cell_type": "code",
      "source": [
        "def turno_estudo():\n",
        "    while True:\n",
        "        # Solicita ao usuário que informe o turno\n",
        "        turno = input(\"Em qual turno você estuda? (manhã, tarde, noite): \").strip().lower()\n",
        "\n",
        "        # Verifica a entrada e exibe a mensagem correspondente\n",
        "        if turno == \"manhã\":\n",
        "            print(\"Bom Dia!\")\n",
        "            break\n",
        "        elif turno == \"tarde\":\n",
        "            print(\"Boa Tarde!\")\n",
        "            break\n",
        "        elif turno == \"noite\":\n",
        "            print(\"Boa Noite!\")\n",
        "            break\n",
        "        else:\n",
        "            print(\"Valor Inválido! Por favor, insira 'manhã', 'tarde' ou 'noite'.\")\n",
        "\n",
        "# Chama a função principal\n",
        "turno_estudo()"
      ],
      "metadata": {
        "id": "-_q-Pcr_-zth",
        "colab": {
          "base_uri": "https://localhost:8080/"
        },
        "outputId": "2ce53762-4e3d-4c81-c278-7006c6832402"
      },
      "execution_count": null,
      "outputs": [
        {
          "output_type": "stream",
          "name": "stdout",
          "text": [
            "Em qual turno você estuda? (manhã, tarde, noite): tarde\n",
            "Boa Tarde!\n"
          ]
        }
      ]
    },
    {
      "cell_type": "markdown",
      "source": [
        "#### Questão 8\n",
        "Escreva um programa que peça um número inteiro à pessoa usuária e determine se ele é par ou ímpar. Dica: Você pode utilizar o operador módulo `%`."
      ],
      "metadata": {
        "id": "NCCPF3QqHTw-"
      }
    },
    {
      "cell_type": "code",
      "source": [
        "def verificar_par_ou_impar():\n",
        "    while True:\n",
        "        try:\n",
        "            # Solicita um número inteiro ao usuário\n",
        "            numero = int(input(\"Digite um número inteiro: \"))\n",
        "            break  # Sai do loop se a entrada for válida\n",
        "        except ValueError:\n",
        "            print(\"Erro: Por favor, insira um número inteiro válido. Por exemplo 1, 2, 3 ...\")\n",
        "\n",
        "    # Verifica se o número é par ou ímpar\n",
        "    if numero % 2 == 0:\n",
        "        print(f\"O número {numero} é par.\")\n",
        "    else:\n",
        "        print(f\"O número {numero} é ímpar.\")\n",
        "\n",
        "# Chama a função principal\n",
        "verificar_par_ou_impar()\n"
      ],
      "metadata": {
        "id": "OmZJt1nQ-3e6",
        "colab": {
          "base_uri": "https://localhost:8080/"
        },
        "outputId": "df83d199-d230-40f5-f345-51e46f6d6461"
      },
      "execution_count": null,
      "outputs": [
        {
          "output_type": "stream",
          "name": "stdout",
          "text": [
            "Digite um número inteiro: 1,3\n",
            "Erro: Por favor, insira um número inteiro válido. Por exemplo 1, 2, 3 ...\n",
            "Digite um número inteiro: 8\n",
            "O número 8 é par.\n"
          ]
        }
      ]
    },
    {
      "cell_type": "markdown",
      "source": [
        "#### Questão 9\n",
        "Escreva um programa que peça um número à pessoa usuária e informe se ele é inteiro ou decimal."
      ],
      "metadata": {
        "id": "h93Ck1tQHUwE"
      }
    },
    {
      "cell_type": "code",
      "source": [
        "def verificar_tipo_numero():\n",
        "    while True:\n",
        "        entrada = input(\"Digite um número: \").strip()  # Solicita um número ao usuário\n",
        "\n",
        "        # Substitui a vírgula por ponto para permitir a conversão correta\n",
        "        entrada = entrada.replace(',', '.')\n",
        "\n",
        "        try:\n",
        "            # Tenta converter a entrada para um número decimal\n",
        "            numero_decimal = float(entrada)\n",
        "\n",
        "            # Verifica se o número é inteiro\n",
        "            if numero_decimal.is_integer():\n",
        "                print(f\"O número {numero_decimal} é um número inteiro.\")\n",
        "            else:\n",
        "                print(f\"O número {numero_decimal} é um número decimal.\")\n",
        "            break  # Sai do loop se a entrada for válida\n",
        "\n",
        "        except ValueError:\n",
        "            print(\"Erro: Por favor, insira um número válido.\")\n",
        "\n",
        "# Chama a função principal\n",
        "verificar_tipo_numero()"
      ],
      "metadata": {
        "id": "sLMlZcx8-20N",
        "colab": {
          "base_uri": "https://localhost:8080/"
        },
        "outputId": "8f3491cb-17f2-4d95-cd98-a1891ed282e8"
      },
      "execution_count": null,
      "outputs": [
        {
          "output_type": "stream",
          "name": "stdout",
          "text": [
            "Digite um número: 5\n",
            "O número 5.0 é um número inteiro.\n"
          ]
        }
      ]
    },
    {
      "cell_type": "markdown",
      "source": [
        "### Momento dos projetos"
      ],
      "metadata": {
        "id": "bKdXSK1SH_pF"
      }
    },
    {
      "cell_type": "markdown",
      "source": [
        "#### Questão 10\n",
        "Um programa deve ser escrito para ler dois números e, em seguida, perguntar à pessoa usuária qual operação ele deseja realizar. O resultado da operação deve incluir informações sobre o número - se é par ou ímpar, positivo ou negativo e inteiro ou decimal."
      ],
      "metadata": {
        "id": "WBlEyyzsHV86"
      }
    },
    {
      "cell_type": "code",
      "source": [
        "def verificar_tipo_numero(numero):\n",
        "    \"\"\"Verifica se o número é par ou ímpar, positivo ou negativo, e inteiro ou decimal.\"\"\"\n",
        "    tipo = {\n",
        "        \"par_ou_impar\": \"par\" if numero % 2 == 0 else \"ímpar\",\n",
        "        \"positivo_ou_negativo\": \"positivo\" if numero >= 0 else \"negativo\",\n",
        "        \"inteiro_ou_decimal\": \"inteiro\" if numero.is_integer() else \"decimal\"\n",
        "    }\n",
        "    return tipo\n",
        "\n",
        "def realizar_operacao(num1, num2, operacao):\n",
        "    \"\"\"Realiza a operação matemática escolhida.\"\"\"\n",
        "    if operacao == '1':  # Adição\n",
        "        return num1 + num2\n",
        "    elif operacao == '2':  # Subtração\n",
        "        return num1 - num2\n",
        "    elif operacao == '3':  # Multiplicação\n",
        "        return num1 * num2\n",
        "    elif operacao == '4':  # Divisão\n",
        "        if num2 == 0:\n",
        "            raise ValueError(\"Divisão por zero não é permitida.\")\n",
        "        return num1 / num2\n",
        "    else:\n",
        "        raise ValueError(\"Operação inválida.\")\n",
        "\n",
        "def main():\n",
        "    while True:\n",
        "        try:\n",
        "            # Lê os dois números\n",
        "            entrada1 = input(\"Digite o primeiro número: \").replace(',', '.').strip()\n",
        "            entrada2 = input(\"Digite o segundo número: \").replace(',', '.').strip()\n",
        "\n",
        "            num1 = float(entrada1)\n",
        "            num2 = float(entrada2)\n",
        "\n",
        "            # Verifica o tipo dos números\n",
        "            tipo_num1 = verificar_tipo_numero(num1)\n",
        "            tipo_num2 = verificar_tipo_numero(num2)\n",
        "\n",
        "            # Exibe informações sobre os números\n",
        "            print(f\"\\nPrimeiro número: {num1} - {tipo_num1['par_ou_impar']}, {tipo_num1['positivo_ou_negativo']}, {tipo_num1['inteiro_ou_decimal']}\")\n",
        "            print(f\"Segundo número: {num2} - {tipo_num2['par_ou_impar']}, {tipo_num2['positivo_ou_negativo']}, {tipo_num2['inteiro_ou_decimal']}\")\n",
        "\n",
        "            # Pergunta qual operação realizar\n",
        "            print(\"\\nEscolha a operação:\")\n",
        "            print(\"1. Adição\")\n",
        "            print(\"2. Subtração\")\n",
        "            print(\"3. Multiplicação\")\n",
        "            print(\"4. Divisão\")\n",
        "            operacao = input(\"Digite o número da operação desejada: \")\n",
        "\n",
        "            # Realiza a operação\n",
        "            resultado = realizar_operacao(num1, num2, operacao)\n",
        "            print(f\"\\nResultado da operação: {resultado}\")\n",
        "\n",
        "            break  # Sai do loop se tudo ocorrer bem\n",
        "\n",
        "        except ValueError as e:\n",
        "            print(f\"Erro: {e}. Por favor, insira valores válidos.\")\n",
        "\n",
        "# Chama a função principal\n",
        "main()"
      ],
      "metadata": {
        "id": "3jmahZ0f-2gq",
        "colab": {
          "base_uri": "https://localhost:8080/"
        },
        "outputId": "d683cc9c-4c87-4cb0-8341-3e1ec6a92737"
      },
      "execution_count": null,
      "outputs": [
        {
          "output_type": "stream",
          "name": "stdout",
          "text": [
            "Digite o primeiro número: 3\n",
            "Digite o segundo número: 2\n",
            "\n",
            "Primeiro número: 3.0 - ímpar, positivo, inteiro\n",
            "Segundo número: 2.0 - par, positivo, inteiro\n",
            "\n",
            "Escolha a operação:\n",
            "1. Adição\n",
            "2. Subtração\n",
            "3. Multiplicação\n",
            "4. Divisão\n",
            "Digite o número da operação desejada: 2\n",
            "\n",
            "Resultado da operação: 1.0\n"
          ]
        }
      ]
    },
    {
      "cell_type": "markdown",
      "source": [
        "#### Questão 11\n",
        "Escreva um programa que peça à pessoa usuária três números que representam os lados de um triângulo. O programa deve informar se os valores podem ser utilizados para formar um triângulo e, caso afirmativo, se ele é equilátero, isósceles ou escaleno. Tenha em mente algumas dicas:\n",
        "- Três lados formam um triângulo quando a soma de quaisquer dois lados for maior que o terceiro;\n",
        "- Triângulo Equilátero: três lados iguais;\n",
        "- Triângulo Isósceles: quaisquer dois lados iguais;\n",
        "- Triângulo Escaleno: três lados diferentes;\n"
      ],
      "metadata": {
        "id": "VdnlULxHHW19"
      }
    },
    {
      "cell_type": "code",
      "source": [
        "def verificar_triangulo(lado1, lado2, lado3):\n",
        "    \"\"\"Verifica se os lados formam um triângulo e determina seu tipo.\"\"\"\n",
        "    # Verifica a condição para formar um triângulo\n",
        "    if lado1 + lado2 > lado3 and lado1 + lado3 > lado2 and lado2 + lado3 > lado1:\n",
        "        # Determina o tipo de triângulo\n",
        "        if lado1 == lado2 == lado3:\n",
        "            return \"Equilátero\"\n",
        "        elif lado1 == lado2 or lado1 == lado3 or lado2 == lado3:\n",
        "            return \"Isósceles\"\n",
        "        else:\n",
        "            return \"Escaleno\"\n",
        "    else:\n",
        "        return None  # Não forma um triângulo\n",
        "\n",
        "def main():\n",
        "    while True:\n",
        "        try:\n",
        "            # Solicita os lados do triângulo\n",
        "            lado1 = float(input(\"Digite o comprimento do primeiro lado: \").replace(',', '.').strip())\n",
        "            lado2 = float(input(\"Digite o comprimento do segundo lado: \").replace(',', '.').strip())\n",
        "            lado3 = float(input(\"Digite o comprimento do terceiro lado: \").replace(',', '.').strip())\n",
        "\n",
        "            # Verifica o tipo de triângulo\n",
        "            tipo_triangulo = verificar_triangulo(lado1, lado2, lado3)\n",
        "\n",
        "            if tipo_triangulo:\n",
        "                print(f\"Os lados {lado1}, {lado2} e {lado3} formam um triângulo {tipo_triangulo}.\")\n",
        "            else:\n",
        "                print(\"Os lados informados não podem formar um triângulo.\")\n",
        "\n",
        "            break  # Sai do loop se tudo ocorrer bem\n",
        "\n",
        "        except ValueError:\n",
        "            print(\"Erro: Por favor, insira valores numéricos válidos.\")\n",
        "\n",
        "# Chama a função principal\n",
        "main()"
      ],
      "metadata": {
        "id": "0z73sqUO-2Pw",
        "colab": {
          "base_uri": "https://localhost:8080/"
        },
        "outputId": "b4d87ded-da9f-4f71-cafd-682d08cc1e06"
      },
      "execution_count": null,
      "outputs": [
        {
          "output_type": "stream",
          "name": "stdout",
          "text": [
            "Digite o comprimento do primeiro lado: 3\n",
            "Digite o comprimento do segundo lado: 5\n",
            "Digite o comprimento do terceiro lado: 4\n",
            "Os lados 3.0, 5.0 e 4.0 formam um triângulo Escaleno.\n"
          ]
        }
      ]
    },
    {
      "cell_type": "markdown",
      "source": [
        "#### Questão 12\n",
        "Um estabelecimento está vendendo combustíveis com descontos variados. Para o etanol, se a quantidade comprada for até 15 litros, o desconto será de 2% por litro. Caso contrário, será de 4% por litro. Para o diesel, se a quantidade comprada for até 15 litros, o desconto será de 3% por litro. Caso contrário, será de 5% por litro. O preço do litro de diesel é R\\$ 2,00 e o preço do litro de etanol é R\\$ 1,70. Escreva um programa que leia a quantidade de litros vendidos e o tipo de combustível (E para etanol e D para diesel) e calcule o valor a ser pago pelo cliente. Tenha em mente algumas dicas:\n",
        "\n",
        "- O do valor do desconto será a multiplicação entre preço do litro, quantidade de litros e o valor do desconto.\n",
        "- O valor a ser pago por um cliente será o resultado da multiplicação do preço do litro pela quantidade de litros menos o valor de desconto resultante do cálculo.\n"
      ],
      "metadata": {
        "id": "_PpEpOugHXwZ"
      }
    },
    {
      "cell_type": "code",
      "source": [
        "def calcular_valor_a_pagar(tipo_combustivel, quantidade_litros):\n",
        "    # Preços por litro\n",
        "    preco_etanol = 1.70\n",
        "    preco_diesel = 2.00\n",
        "\n",
        "    # Inicializa variáveis\n",
        "    preco_por_litro = 0\n",
        "    desconto_por_litro = 0\n",
        "\n",
        "    # Define o preço e o desconto com base no tipo de combustível\n",
        "    if tipo_combustivel.upper() == 'E':\n",
        "        preco_por_litro = preco_etanol\n",
        "        if quantidade_litros <= 15:\n",
        "            desconto_por_litro = 0.02  # 2%\n",
        "        else:\n",
        "            desconto_por_litro = 0.04  # 4%\n",
        "    elif tipo_combustivel.upper() == 'D':\n",
        "        preco_por_litro = preco_diesel\n",
        "        if quantidade_litros <= 15:\n",
        "            desconto_por_litro = 0.03  # 3%\n",
        "        else:\n",
        "            desconto_por_litro = 0.05  # 5%\n",
        "    else:\n",
        "        raise ValueError(\"Tipo de combustível inválido. Use 'E' para etanol ou 'D' para diesel.\")\n",
        "\n",
        "    # Calcula o valor total sem desconto\n",
        "    valor_total = preco_por_litro * quantidade_litros\n",
        "\n",
        "    # Calcula o valor do desconto\n",
        "    valor_desconto = valor_total * desconto_por_litro\n",
        "\n",
        "    # Calcula o valor a ser pago\n",
        "    valor_a_pagar = valor_total - valor_desconto\n",
        "\n",
        "    return valor_a_pagar\n",
        "\n",
        "def main():\n",
        "    while True:\n",
        "        try:\n",
        "            # Solicita a quantidade de litros\n",
        "            quantidade_litros = input(\"Digite a quantidade de litros: \").replace(',', '.').strip()\n",
        "            quantidade_litros = float(quantidade_litros)  # Tenta converter para float\n",
        "\n",
        "            # Verifica se a quantidade de litros é positiva\n",
        "            if quantidade_litros <= 0:\n",
        "                raise ValueError(\"A quantidade de litros deve ser um número positivo.\")\n",
        "\n",
        "            # Solicita o tipo de combustível\n",
        "            tipo_combustivel = input(\"Digite o tipo de combustível (E para etanol, D para diesel): \").strip()\n",
        "\n",
        "            # Calcula o valor a ser pago\n",
        "            valor_a_pagar = calcular_valor_a_pagar(tipo_combustivel, quantidade_litros)\n",
        "\n",
        "            # Exibe o resultado\n",
        "            print(f\"O valor a ser pago é: R$ {valor_a_pagar:.2f}\")\n",
        "            break  # Sai do loop se tudo ocorrer bem\n",
        "\n",
        "        except ValueError as e:\n",
        "            print(f\"Erro: {e}. Por favor, insira valores válidos.\")\n",
        "\n",
        "# Chama a função principal\n",
        "main()"
      ],
      "metadata": {
        "id": "9izoF-0O-1yD",
        "colab": {
          "base_uri": "https://localhost:8080/"
        },
        "outputId": "11073550-e074-46ce-cdbe-d194deae568a"
      },
      "execution_count": null,
      "outputs": [
        {
          "output_type": "stream",
          "name": "stdout",
          "text": [
            "Digite a quantidade de litros: 20\n",
            "Digite o tipo de combustível (E para etanol, D para diesel): e\n",
            "O valor a ser pago é: R$ 32.64\n"
          ]
        }
      ]
    },
    {
      "cell_type": "markdown",
      "source": [
        "#### Questão 13\n",
        "Em uma empresa de venda de imóveis você precisa criar um código que analise os dados de vendas anuais para ajudar a diretoria na tomada de decisão. O código precisa coletar os dados de quantidade de venda durante os anos de 2022 e 2023 e fazer um cálculo de variação percentual. A partir do valor da variação, deve ser enviada às seguintes sugestões:\n",
        "- Para variação acima de 20%: bonificação para o time de vendas.\n",
        "- Para variação entre 2% e 20%: pequena bonificação para time de vendas.\n",
        "- Para variação entre 2% e -10%: planejamento de políticas de incentivo às vendas.\n",
        "- Para bonificações abaixo de -10%: corte de gastos.\n"
      ],
      "metadata": {
        "id": "s_XS_D1WHY2R"
      }
    },
    {
      "cell_type": "code",
      "source": [
        "def calcular_variacao_percentual(vendas_2022, vendas_2023):\n",
        "    \"\"\"Calcula a variação percentual entre as vendas de 2022 e 2023.\"\"\"\n",
        "    if vendas_2022 == 0:\n",
        "        raise ValueError(\"As vendas de 2022 não podem ser zero para calcular a variação percentual.\")\n",
        "\n",
        "    variacao = ((vendas_2023 - vendas_2022) / vendas_2022) * 100\n",
        "    return variacao\n",
        "\n",
        "def sugerir_acao(variacao):\n",
        "    \"\"\"Sugere ações com base na variação percentual.\"\"\"\n",
        "    if variacao > 20:\n",
        "        return \"Bonificação para o time de vendas.\"\n",
        "    elif 2 < variacao <= 20:\n",
        "        return \"Pequena bonificação para o time de vendas.\"\n",
        "    elif -10 < variacao <= 2:\n",
        "        return \"Planejamento de políticas de incentivo às vendas.\"\n",
        "    else:\n",
        "        return \"Corte de gastos.\"\n",
        "\n",
        "def main():\n",
        "    while True:\n",
        "        try:\n",
        "            # Coleta os dados de vendas\n",
        "            vendas_2022 = float(input(\"Digite a quantidade de vendas em 2022: \").replace(',', '.').strip())\n",
        "            vendas_2023 = float(input(\"Digite a quantidade de vendas em 2023: \").replace(',', '.').strip())\n",
        "\n",
        "            # Verifica se as vendas são não negativas\n",
        "            if vendas_2022 < 0 or vendas_2023 < 0:\n",
        "                raise ValueError(\"As vendas não podem ser negativas.\")\n",
        "\n",
        "            # Calcula a variação percentual\n",
        "            variacao = calcular_variacao_percentual(vendas_2022, vendas_2023)\n",
        "\n",
        "            # Sugere ação com base na variação\n",
        "            acao = sugerir_acao(variacao)\n",
        "\n",
        "            # Exibe os resultados\n",
        "            print(f\"\\nVariação percentual das vendas: {variacao:.2f}%\")\n",
        "            print(f\"Sugestão: {acao}\")\n",
        "\n",
        "            break  # Sai do loop se tudo ocorrer bem\n",
        "\n",
        "        except ValueError as e:\n",
        "            print(f\"Erro: {e}. Por favor, insira valores válidos.\")\n",
        "\n",
        "# Chama a função principal\n",
        "main()"
      ],
      "metadata": {
        "id": "avQrYlUg-w8f",
        "colab": {
          "base_uri": "https://localhost:8080/"
        },
        "outputId": "c5357757-fdc7-48c4-cc70-304d1042a883"
      },
      "execution_count": null,
      "outputs": [
        {
          "output_type": "stream",
          "name": "stdout",
          "text": [
            "Digite a quantidade de vendas em 2022: 100\n",
            "Digite a quantidade de vendas em 2023: 98\n",
            "\n",
            "Variação percentual das vendas: -2.00%\n",
            "Sugestão: Planejamento de políticas de incentivo às vendas.\n"
          ]
        }
      ]
    },
    {
      "cell_type": "markdown",
      "source": [
        "## Aula 4 - Estruturas de repetição"
      ],
      "metadata": {
        "id": "AuaWh4-d2Itt"
      }
    },
    {
      "cell_type": "markdown",
      "source": [
        "### Aquecendo na programação"
      ],
      "metadata": {
        "id": "6MSqU0sIJRdD"
      }
    },
    {
      "cell_type": "markdown",
      "source": [
        "#### Questão 1\n",
        "Escreva um programa que peça dois números inteiros e imprima todos os números inteiros entre eles."
      ],
      "metadata": {
        "id": "9eGGyCnAJRdQ"
      }
    },
    {
      "cell_type": "code",
      "source": [
        "numero1 = float(input('Digite o primeiro número:'))\n",
        "numero2 = float(input('Digite o segundo múmero: '))\n",
        "\n",
        "while numero1 > numero2:\n",
        "    numero2 += 1\n",
        "    print(numero2)\n",
        "else:\n",
        "    numero2 -= 1\n",
        "    print(numero2)"
      ],
      "metadata": {
        "id": "ID1oc1hxJRdQ",
        "colab": {
          "base_uri": "https://localhost:8080/"
        },
        "outputId": "30373c64-3f88-4721-c9c1-fced1e1d60c1"
      },
      "execution_count": null,
      "outputs": [
        {
          "output_type": "stream",
          "name": "stdout",
          "text": [
            "Digite o primeiro número:1\n",
            "Digite o segundo múmero: 11\n",
            "10.0\n"
          ]
        }
      ]
    },
    {
      "cell_type": "markdown",
      "source": [
        "#### Questão 2\n",
        "Escreva um programa para calcular quantos dias levará para a colônia de uma bactéria A ultrapassar ou igualar a colônia de uma bactéria B, com base nas taxas de crescimento de 3% e 1,5% respectivamente. Considere que a colônia A inicia com 4 elementos e a colônia B com 10 elementos."
      ],
      "metadata": {
        "id": "mGonEHYCJRdR"
      }
    },
    {
      "cell_type": "code",
      "source": [
        "# Função para calcular quantos dias a colônia A levará para ultrapassar a colônia B\n",
        "def calcular_dias_para_ultrapassar():\n",
        "    # Populações iniciais\n",
        "    A = 4  # Bactéria A começa com 4 bactérias\n",
        "    B = 10  # Bactéria B começa com 10 bactérias\n",
        "\n",
        "    # Taxas de crescimento\n",
        "    taxa_A = 0.04  # 3% de crescimento para a bactéria A\n",
        "    taxa_B = 0.015  # 1,5% de crescimento para a bactéria B\n",
        "\n",
        "    # Contador de dias\n",
        "    dias = 0  # Inicializa o contador de dias em 0\n",
        "\n",
        "    # Loop para calcular o crescimento das bactérias\n",
        "    while A < B:  # Enquanto a população A for menor que a população B\n",
        "        A *= (1 + taxa_A)  # Atualiza a população da bactéria A\n",
        "        B *= (1 + taxa_B)  # Atualiza a população da bactéria B\n",
        "        dias += 1  # Incrementa o contador de dias\n",
        "\n",
        "    return dias  # Retorna o número de dias necessários\n",
        "\n",
        "# Chama a função e imprime o resultado\n",
        "dias_necessarios = calcular_dias_para_ultrapassar()  # Chama a função e armazena o resultado\n",
        "print(f\"A colônia de bactéria A levará {dias_necessarios} dias para ultrapassar ou igualar a colônia de bactéria B.\")"
      ],
      "metadata": {
        "id": "wM6FJuoqJRdR",
        "colab": {
          "base_uri": "https://localhost:8080/"
        },
        "outputId": "c863390d-8b17-40a3-8c0b-3d066c7627ee"
      },
      "execution_count": null,
      "outputs": [
        {
          "output_type": "stream",
          "name": "stdout",
          "text": [
            "A colônia de bactéria A levará 38 dias para ultrapassar ou igualar a colônia de bactéria B.\n"
          ]
        }
      ]
    },
    {
      "cell_type": "markdown",
      "source": [
        "#### Questão 3\n",
        "Para tratar uma quantidade de 15 dados de avaliações de pessoas usuárias de um serviço da empresa, precisamos verificar se as notas são válidas. Então, escreva um programa que vai receber a nota de 0 a 5 de todos os dados e verificar se é um valor válido. Caso seja inserido uma nota acima de 5 ou abaixo de 0, repita até que a pessoa usuária insira um valor válido."
      ],
      "metadata": {
        "id": "UiOZRlqoJRdR"
      }
    },
    {
      "cell_type": "code",
      "source": [
        "# Inicializa uma lista vazia para armazenar as notas\n",
        "notas = []\n",
        "# Inicializa um contador para o número de notas coletadas\n",
        "contador = 0\n",
        "\n",
        "# Loop para coletar 15 notas\n",
        "while contador < 15:  # Enquanto o contador for menor que 15\n",
        "    # Solicita ao usuário que insira uma nota\n",
        "    nota = float(input('Digite uma nota de 0 a 5: '))\n",
        "\n",
        "    # Verifica se a nota está dentro do intervalo válido\n",
        "    while nota < 0 or nota > 5:  # Enquanto a nota for menor que 0 ou maior que 5\n",
        "        print('Nota inválida! Digite uma nota de 0 a 5:')  # Mensagem de erro\n",
        "        nota = float(input('Digite uma nota de 0 a 5: '))  # Pede a nota novamente\n",
        "\n",
        "    # Adiciona a nota à lista\n",
        "    notas.append(nota)  # Adiciona a nota à lista de notas\n",
        "    contador += 1  # Incrementa o contador\n",
        "\n",
        "# Exibe as notas coletadas\n",
        "print(\"Notas coletadas:\", notas)"
      ],
      "metadata": {
        "id": "3TUAhCxcJRdR",
        "colab": {
          "base_uri": "https://localhost:8080/"
        },
        "outputId": "f62e3094-db9f-4764-d2d2-e80a155f8895"
      },
      "execution_count": null,
      "outputs": [
        {
          "output_type": "stream",
          "name": "stdout",
          "text": [
            "Digite uma nota de 0 a 5: 2\n",
            "Digite uma nota de 0 a 5: 6\n",
            "Nota inválida! Digite uma nota de 0 a 5:\n",
            "Digite uma nota de 0 a 5: 5\n",
            "Digite uma nota de 0 a 5: 1\n",
            "Digite uma nota de 0 a 5: 3\n",
            "Digite uma nota de 0 a 5: 2\n",
            "Digite uma nota de 0 a 5: 1\n",
            "Digite uma nota de 0 a 5: 4\n",
            "Digite uma nota de 0 a 5: 3\n",
            "Digite uma nota de 0 a 5: 2\n",
            "Digite uma nota de 0 a 5: 5\n",
            "Digite uma nota de 0 a 5: 1\n",
            "Digite uma nota de 0 a 5: 5\n",
            "Digite uma nota de 0 a 5: 5\n",
            "Digite uma nota de 0 a 5: 5\n",
            "Digite uma nota de 0 a 5: 5\n",
            "Notas coletadas: [2.0, 5.0, 1.0, 3.0, 2.0, 1.0, 4.0, 3.0, 2.0, 5.0, 1.0, 5.0, 5.0, 5.0, 5.0]\n"
          ]
        }
      ]
    },
    {
      "cell_type": "markdown",
      "source": [
        "#### Questão 4\n",
        "Desenvolva um programa que leia um conjunto indeterminado de temperaturas em Celsius e faça uma análise. Portanto, escreva um programa que leia temperaturas e informe a média delas. A leitura deve ser encerrada ao ser enviado o valor -273°C."
      ],
      "metadata": {
        "id": "ABv3KObGJRdR"
      }
    },
    {
      "cell_type": "code",
      "source": [
        "# Passo 1: Inicializar variáveis\n",
        "soma_temperaturas = 0  # Para armazenar a soma das temperaturas\n",
        "contador = 0  # Para contar quantas temperaturas foram inseridas\n",
        "\n",
        "# Passo 2: Usar um loop para ler as temperaturas\n",
        "while True:  # Loop infinito que só será interrompido quando o usuário inserir -273\n",
        "    temperatura = float(input(\"Digite uma temperatura em Celsius (-273 para encerrar): \"))  # Lê a temperatura\n",
        "\n",
        "    # Verifica se a temperatura é -273 para encerrar a leitura\n",
        "    if temperatura == -273:\n",
        "        break  # Sai do loop se a temperatura for -273\n",
        "\n",
        "    # Adiciona a temperatura à soma e incrementa o contador\n",
        "    soma_temperaturas += temperatura  # Soma a temperatura à soma total\n",
        "    contador += 1  # Incrementa o contador de temperaturas\n",
        "\n",
        "# Passo 3: Calcular e exibir a média\n",
        "if contador > 0:  # Verifica se alguma temperatura foi inserida\n",
        "    media = soma_temperaturas / contador  # Calcula a média\n",
        "    print(f\"A média das temperaturas é: {media:.2f}°C\")  # Exibe a média formatada com 2 casas decimais\n",
        "else:\n",
        "    print(\"Nenhuma temperatura foi inserida.\")  # Mensagem caso nenhuma temperatura tenha sido inserida"
      ],
      "metadata": {
        "id": "85tBBj5KJRdS",
        "colab": {
          "base_uri": "https://localhost:8080/"
        },
        "outputId": "0bdef13c-4b69-4de1-850f-19c11bc2bebe"
      },
      "execution_count": null,
      "outputs": [
        {
          "output_type": "stream",
          "name": "stdout",
          "text": [
            "Digite uma temperatura em Celsius (-273 para encerrar): 30\n",
            "Digite uma temperatura em Celsius (-273 para encerrar): 23\n",
            "Digite uma temperatura em Celsius (-273 para encerrar): 22\n",
            "Digite uma temperatura em Celsius (-273 para encerrar): 26\n",
            "Digite uma temperatura em Celsius (-273 para encerrar): 23\n",
            "Digite uma temperatura em Celsius (-273 para encerrar): 25\n",
            "Digite uma temperatura em Celsius (-273 para encerrar): 28\n",
            "Digite uma temperatura em Celsius (-273 para encerrar): 32\n",
            "Digite uma temperatura em Celsius (-273 para encerrar): -273\n",
            "A média das temperaturas é: 26.12°C\n"
          ]
        }
      ]
    },
    {
      "cell_type": "markdown",
      "source": [
        "#### Questão 5\n",
        "Escreva um programa que calcule o fatorial de um número inteiro fornecido pela pessoa usuária. O fatorial de um número inteiro é a multiplicação desse número por todos os seus antecessores até o número 1. Por exemplo, o fatorial de 5 é 5 x 4 x 3 x 2 x 1 = 120."
      ],
      "metadata": {
        "id": "IjkbAfGcJRdS"
      }
    },
    {
      "cell_type": "code",
      "source": [
        "# Solicita um número inteiro ao usuário\n",
        "numero = int(input('Digite um número inteiro para calcular o fatorial: '))\n",
        "\n",
        "# Inicializa a variável do fatorial\n",
        "fatorial = 1\n",
        "\n",
        "# Calcula o fatorial usando um loop\n",
        "for i in range(1, numero + 1):  # Adiciona o ':' no final da linha\n",
        "    fatorial *= i  # Multiplica o fatorial pelo número atual\n",
        "\n",
        "# Exibe o resultado do fatorial\n",
        "print(f\"O fatorial de {numero} é {fatorial}.\")  # Coloca o print fora do loop"
      ],
      "metadata": {
        "id": "7RTH8o0HJRdS",
        "colab": {
          "base_uri": "https://localhost:8080/"
        },
        "outputId": "56dc8e7c-62ae-4d3a-998d-b4e38587b851"
      },
      "execution_count": null,
      "outputs": [
        {
          "output_type": "stream",
          "name": "stdout",
          "text": [
            "Digite um numero inteiro para calcular o fatorial5\n",
            "120\n"
          ]
        }
      ]
    },
    {
      "cell_type": "markdown",
      "source": [
        "### Momento dos projetos"
      ],
      "metadata": {
        "id": "oGNKuQjsJRdT"
      }
    },
    {
      "cell_type": "markdown",
      "source": [
        "#### Questão 6\n",
        "Escreva um programa que gere a tabuada de um número inteiro de 1 a 10, de acordo com a escolha da pessoa usuária. Como exemplo, para o número 2, a tabuada deve ser mostrada no seguinte formato:\n",
        "```\n",
        "Tabuada do 2:\n",
        "2 x 1 = 2\n",
        "2 x 2 = 4\n",
        "[...]\n",
        "2 x 10 = 20\n",
        "```"
      ],
      "metadata": {
        "id": "ODxaTUYmJRdS"
      }
    },
    {
      "cell_type": "code",
      "source": [
        "# Passo 1: Solicitar um número ao usuário\n",
        "numero = int(input(\"Digite um número inteiro de 1 a 10 para ver a tabuada: \"))\n",
        "\n",
        "# Passo 2: Verificar se o número está dentro do intervalo permitido\n",
        "if 1 <= numero <= 10:\n",
        "    # Passo 3: Gerar e exibir a tabuada\n",
        "    print(f\"Tabuada do {numero}:\")\n",
        "    for i in range(1, 11):  # Loop de 1 a 10\n",
        "        resultado = numero * i  # Calcula o resultado da multiplicação\n",
        "        print(f\"{numero} x {i} = {resultado}\")  # Exibe a linha da tabuada\n",
        "else:\n",
        "    print(\"Por favor, digite um número entre 1 e 10.\")  # Mensagem de erro se o número não estiver no intervalo"
      ],
      "metadata": {
        "id": "lkTlbxPIJRdS",
        "colab": {
          "base_uri": "https://localhost:8080/"
        },
        "outputId": "17238438-5b3d-4463-9bc8-d64d88f520ee"
      },
      "execution_count": null,
      "outputs": [
        {
          "output_type": "stream",
          "name": "stdout",
          "text": [
            "Digite um número inteiro de 1 a 10 para ver a tabuada: 2\n",
            "Tabuada do 2:\n",
            "2 x 1 = 2\n",
            "2 x 2 = 4\n",
            "2 x 3 = 6\n",
            "2 x 4 = 8\n",
            "2 x 5 = 10\n",
            "2 x 6 = 12\n",
            "2 x 7 = 14\n",
            "2 x 8 = 16\n",
            "2 x 9 = 18\n",
            "2 x 10 = 20\n"
          ]
        }
      ]
    },
    {
      "cell_type": "markdown",
      "source": [
        "#### Questão 7\n",
        "Os números primos possuem várias aplicações dentro da Ciência de Dados, por exemplo, na criptografia e segurança. Um número primo é aquele que é divisível apenas por um e por ele mesmo. Faça um programa que peça um número inteiro e determine se ele é ou não um número primo."
      ],
      "metadata": {
        "id": "LeIbnt8VJRdS"
      }
    },
    {
      "cell_type": "code",
      "source": [
        "# Passo 1: Solicitar um número inteiro ao usuário\n",
        "numero = int(input(\"Digite um número inteiro: \"))\n",
        "\n",
        "# Passo 2: Verificar se o número é primo\n",
        "if numero <= 1:\n",
        "    print(f\"{numero} não é um número primo.\")  # Números menores ou iguais a 1 não são primos\n",
        "else:\n",
        "    is_primo = True  # Inicializa a variável que indica se o número é primo\n",
        "    for i in range(2, int(numero**0.5) + 1):  # Verifica divisores até a raiz quadrada do número\n",
        "        if numero % i == 0:  # Se o número for divisível por i\n",
        "            is_primo = False  # Não é primo\n",
        "            break  # Sai do loop, pois já sabemos que não é primo\n",
        "\n",
        "    # Passo 3: Exibir o resultado\n",
        "    if is_primo:\n",
        "        print(f\"{numero} é um número primo.\")\n",
        "    else:\n",
        "        print(f\"{numero} não é um número primo.\")"
      ],
      "metadata": {
        "id": "2rcNU7twJRdS"
      },
      "execution_count": null,
      "outputs": []
    },
    {
      "cell_type": "markdown",
      "source": [
        "#### Questão 8\n",
        "Vamos entender a distribuição de idades de pensionistas de uma empresa de previdência. Escreva um programa que leia as idades de uma quantidade não informada de clientes e mostre a distribuição em intervalos de [0-25], [26-50], [51-75] e [76-100]. Encerre a entrada de dados com um número negativo."
      ],
      "metadata": {
        "id": "QTwb6QaCJRdT"
      }
    },
    {
      "cell_type": "code",
      "source": [
        "# Inicializa contadores para cada intervalo\n",
        "intervalo_0_25 = 0\n",
        "intervalo_26_50 = 0\n",
        "intervalo_51_75 = 0\n",
        "intervalo_76_100 = 0\n",
        "\n",
        "while True:\n",
        "    # Solicita a idade do cliente\n",
        "    idade = int(input(\"Digite a idade do cliente (número negativo para encerrar): \"))\n",
        "\n",
        "    # Verifica se a entrada é negativa para encerrar\n",
        "    if idade < 0:\n",
        "        break\n",
        "\n",
        "    # Verifica em qual intervalo a idade se encaixa\n",
        "    if 0 <= idade <= 25:\n",
        "        intervalo_0_25 += 1\n",
        "    elif 26 <= idade <= 50:\n",
        "        intervalo_26_50 += 1\n",
        "    elif 51 <= idade <= 75:\n",
        "        intervalo_51_75 += 1\n",
        "    elif 76 <= idade <= 100:\n",
        "        intervalo_76_100 += 1\n",
        "    else:\n",
        "        print(\"Idade fora do intervalo considerado.\")\n",
        "\n",
        "# Exibe a distribuição das idades\n",
        "print(\"\\nDistribuição de idades:\")\n",
        "print(f\"[0-25]: {intervalo_0_25} clientes\")\n",
        "print(f\"[26-50]: {intervalo_26_50} clientes\")\n",
        "print(f\"[51-75]: {intervalo_51_75} clientes\")\n",
        "print(f\"[76-100]: {intervalo_76_100} clientes\")8"
      ],
      "metadata": {
        "id": "4IAhaDmYJRdT",
        "colab": {
          "base_uri": "https://localhost:8080/"
        },
        "outputId": "4eb0d27f-79a6-4ea3-a92f-e4a4b6428fd6"
      },
      "execution_count": null,
      "outputs": [
        {
          "output_type": "stream",
          "name": "stdout",
          "text": [
            "Digite a idade do cliente (número negativo para encerrar): 35\n",
            "Digite a idade do cliente (número negativo para encerrar): 55\n",
            "Digite a idade do cliente (número negativo para encerrar): 75\n",
            "Digite a idade do cliente (número negativo para encerrar): 92\n",
            "Digite a idade do cliente (número negativo para encerrar): 69\n",
            "Digite a idade do cliente (número negativo para encerrar): 85\n",
            "Digite a idade do cliente (número negativo para encerrar): 84\n",
            "Digite a idade do cliente (número negativo para encerrar): 86\n",
            "Digite a idade do cliente (número negativo para encerrar): -1\n",
            "\n",
            "Distribuição de idades:\n",
            "[0-25]: 0 clientes\n",
            "[26-50]: 1 clientes\n",
            "[51-75]: 3 clientes\n",
            "[76-100]: 4 clientes\n"
          ]
        }
      ]
    },
    {
      "cell_type": "markdown",
      "source": [
        "#### Questão 9\n",
        "Em uma eleição para gerência em uma empresa com 20 funcionários, existem quatro candidatos. Escreva um programa que calcule o vencedor da eleição. A votação ocorreu da seguinte maneira:\n",
        "- Cada funcionário votou em um dos quatro candidatos (representados pelos números 1, 2, 3 e 4).\n",
        "- Também foram contabilizados os votos nulos (representado pelo número 5) e os votos em branco (representado pelo número 6).\n",
        "\n",
        "Ao final da votação, o programa deve exibir o total de votos para cada candidato, o número de votos nulos e o número de votos em branco. Além disso, deve calcular e exibir a porcentagem de votos nulos em relação ao total de votos e a porcentagem de votos em branco em relação ao total de votos."
      ],
      "metadata": {
        "id": "soJCQVwRJRdT"
      }
    },
    {
      "cell_type": "code",
      "source": [
        "# Inicializa contadores para os candidatos e votos nulos e em branco\n",
        "votos_candidato_1 = 0\n",
        "votos_candidato_2 = 0\n",
        "votos_candidato_3 = 0\n",
        "votos_candidato_4 = 0\n",
        "votos_nulos = 0\n",
        "votos_brancos = 0\n",
        "\n",
        "# Número total de funcionários\n",
        "total_funcionarios = 20\n",
        "\n",
        "# Coleta os votos\n",
        "for i in range(total_funcionarios):\n",
        "    voto = int(input(f\"Funcionário {i + 1}, digite seu voto (1, 2, 3, 4 para candidatos, 5 para nulo, 6 para em branco): \"))\n",
        "\n",
        "    # Verifica o voto e incrementa o contador correspondente\n",
        "    if voto == 1:\n",
        "        votos_candidato_1 += 1\n",
        "    elif voto == 2:\n",
        "        votos_candidato_2 += 1\n",
        "    elif voto == 3:\n",
        "        votos_candidato_3 += 1\n",
        "    elif voto == 4:\n",
        "        votos_candidato_4 += 1\n",
        "    elif voto == 5:\n",
        "        votos_nulos += 1\n",
        "    elif voto == 6:\n",
        "        votos_brancos += 1\n",
        "    else:\n",
        "        print(\"Voto inválido. Por favor, digite um número entre 1 e 6.\")\n",
        "\n",
        "# Total de votos\n",
        "total_votos = votos_candidato_1 + votos_candidato_2 + votos_candidato_3 + votos_candidato_4 + votos_nulos + votos_brancos\n",
        "\n",
        "# Exibe os resultados\n",
        "print(\"\\nResultados da Eleição:\")\n",
        "print(f\"Candidato 1: {votos_candidato_1} votos\")\n",
        "print(f\"Candidato 2: {votos_candidato_2} votos\")\n",
        "print(f\"Candidato 3: {votos_candidato_3} votos\")\n",
        "print(f\"Candidato 4: {votos_candidato_4} votos\")\n",
        "print(f\"Votos nulos: {votos_nulos}\")\n",
        "print(f\"Votos em branco: {votos_brancos}\")\n",
        "\n",
        "# Calcula e exibe as porcentagens\n",
        "if total_votos > 0:\n",
        "    porcentagem_nulos = (votos_nulos / total_votos) * 100\n",
        "    porcentagem_brancos = (votos_brancos / total_votos) * 100\n",
        "    print(f\"Porcentagem de votos nulos: {porcentagem_nulos:.2f}%\")\n",
        "    print(f\"Porcentagem de votos em branco: {porcentagem_brancos:.2f}%\")\n",
        "else:\n",
        "    print(\"Nenhum voto foi contabilizado.\")"
      ],
      "metadata": {
        "id": "041EFrgG-4gR",
        "colab": {
          "base_uri": "https://localhost:8080/"
        },
        "outputId": "415a49b7-e835-4d52-ade7-8ebf524c8d3f"
      },
      "execution_count": null,
      "outputs": [
        {
          "output_type": "stream",
          "name": "stdout",
          "text": [
            "Funcionário 1, digite seu voto (1, 2, 3, 4 para candidatos, 5 para nulo, 6 para em branco): 1\n",
            "Funcionário 2, digite seu voto (1, 2, 3, 4 para candidatos, 5 para nulo, 6 para em branco): 1\n",
            "Funcionário 3, digite seu voto (1, 2, 3, 4 para candidatos, 5 para nulo, 6 para em branco): 1\n",
            "Funcionário 4, digite seu voto (1, 2, 3, 4 para candidatos, 5 para nulo, 6 para em branco): 1\n",
            "Funcionário 5, digite seu voto (1, 2, 3, 4 para candidatos, 5 para nulo, 6 para em branco): 1\n",
            "Funcionário 6, digite seu voto (1, 2, 3, 4 para candidatos, 5 para nulo, 6 para em branco): 1\n",
            "Funcionário 7, digite seu voto (1, 2, 3, 4 para candidatos, 5 para nulo, 6 para em branco): 1\n",
            "Funcionário 8, digite seu voto (1, 2, 3, 4 para candidatos, 5 para nulo, 6 para em branco): 1\n",
            "Funcionário 9, digite seu voto (1, 2, 3, 4 para candidatos, 5 para nulo, 6 para em branco): 1\n",
            "Funcionário 10, digite seu voto (1, 2, 3, 4 para candidatos, 5 para nulo, 6 para em branco): 1\n",
            "Funcionário 11, digite seu voto (1, 2, 3, 4 para candidatos, 5 para nulo, 6 para em branco): 1\n",
            "Funcionário 12, digite seu voto (1, 2, 3, 4 para candidatos, 5 para nulo, 6 para em branco): 1\n",
            "Funcionário 13, digite seu voto (1, 2, 3, 4 para candidatos, 5 para nulo, 6 para em branco): 1\n",
            "Funcionário 14, digite seu voto (1, 2, 3, 4 para candidatos, 5 para nulo, 6 para em branco): 1\n",
            "Funcionário 15, digite seu voto (1, 2, 3, 4 para candidatos, 5 para nulo, 6 para em branco): 1\n",
            "Funcionário 16, digite seu voto (1, 2, 3, 4 para candidatos, 5 para nulo, 6 para em branco): 1\n",
            "Funcionário 17, digite seu voto (1, 2, 3, 4 para candidatos, 5 para nulo, 6 para em branco): 1\n",
            "Funcionário 18, digite seu voto (1, 2, 3, 4 para candidatos, 5 para nulo, 6 para em branco): 1\n",
            "Funcionário 19, digite seu voto (1, 2, 3, 4 para candidatos, 5 para nulo, 6 para em branco): 1\n",
            "Funcionário 20, digite seu voto (1, 2, 3, 4 para candidatos, 5 para nulo, 6 para em branco): 1\n",
            "\n",
            "Resultados da Eleição:\n",
            "Candidato 1: 20 votos\n",
            "Candidato 2: 0 votos\n",
            "Candidato 3: 0 votos\n",
            "Candidato 4: 0 votos\n",
            "Votos nulos: 0\n",
            "Votos em branco: 0\n",
            "Porcentagem de votos nulos: 0.00%\n",
            "Porcentagem de votos em branco: 0.00%\n"
          ]
        }
      ]
    },
    {
      "cell_type": "markdown",
      "source": [
        "## Aula 5 - Estruturas de dados"
      ],
      "metadata": {
        "id": "eijHQiNU2IZ7"
      }
    },
    {
      "cell_type": "markdown",
      "source": [
        "### Aquecendo na programação"
      ],
      "metadata": {
        "id": "92F0bKtBMgd7"
      }
    },
    {
      "cell_type": "markdown",
      "source": [
        "#### Questão 1\n",
        "Faça um programa que tenha a seguinte lista contendo os valores de gastos de uma empresa de papel `[2172.54, 3701.35, 3518.09, 3456.61, 3249.38, 2840.82, 3891.45, 3075.26, 2317.64, 3219.08]`. Com esses valores, faça um programa que calcule a média de gastos. Dica, use as funções built-in [`sum()`](https://docs.python.org/3/library/functions.html#sum) e [`len()`](https://docs.python.org/3/library/functions.html#len)."
      ],
      "metadata": {
        "id": "IypX2ANuMgeC"
      }
    },
    {
      "cell_type": "code",
      "source": [
        "# Lista de gastos da empresa de papel\n",
        "gastos = [2172.54, 3701.35, 3518.09, 3456.61, 3249.38,\n",
        "          2840.82, 3891.45, 3075.26, 2317.64, 3219.08]\n",
        "\n",
        "# Calculando a soma dos gastos\n",
        "soma_gastos = sum(gastos)\n",
        "\n",
        "# Calculando a quantidade de gastos\n",
        "quantidade_gastos = len(gastos)\n",
        "\n",
        "# Calculando a média de gastos\n",
        "media_gastos = soma_gastos / quantidade_gastos\n",
        "\n",
        "# Exibindo o resultado\n",
        "print(f\"A média de gastos da empresa é: R$ {media_gastos:.2f}\")"
      ],
      "metadata": {
        "id": "ge3LuFhLMgeD",
        "colab": {
          "base_uri": "https://localhost:8080/"
        },
        "outputId": "90c33847-6f19-4c07-e096-aa260bc023d6"
      },
      "execution_count": null,
      "outputs": [
        {
          "output_type": "stream",
          "name": "stdout",
          "text": [
            "A média de gastos da empresa é: R$ 3144.22\n"
          ]
        }
      ]
    },
    {
      "cell_type": "markdown",
      "source": [
        "#### Questão 2\n",
        " Com os mesmos dados da questão anterior, defina quantas compras foram acima de 3000 reais e calcule a porcentagem quanto ao total de compras."
      ],
      "metadata": {
        "id": "xrOeLhQkMgeD"
      }
    },
    {
      "cell_type": "code",
      "source": [
        "# Lista de gastos da empresa de papel\n",
        "gastos = [2172.54, 3701.35, 3518.09, 3456.61, 3249.38,\n",
        "          2840.82, 3891.45, 3075.26, 2317.64, 3219.08]\n",
        "\n",
        "# Calculando a quantidade total de gastos\n",
        "quantidade_gastos = len(gastos)\n",
        "\n",
        "# Contando quantas compras foram acima de 3000 reais\n",
        "compras_acima_3000 = sum(1 for gasto in gastos if gasto > 3000)\n",
        "\n",
        "# Calculando a porcentagem de compras acima de 3000 reais\n",
        "porcentagem_acima_3000 = (compras_acima_3000 / quantidade_gastos) * 100\n",
        "\n",
        "# Exibindo os resultados\n",
        "print(f\"Total de compras acima de R$ 3000,00: {compras_acima_3000}\")\n",
        "print(f\"Porcentagem de compras acima de R$ 3000,00: {porcentagem_acima_3000:.2f}%\")"
      ],
      "metadata": {
        "id": "Ygu5TMZyMgeD",
        "colab": {
          "base_uri": "https://localhost:8080/"
        },
        "outputId": "b2aebf11-7104-4f11-8331-50ebda214191"
      },
      "execution_count": null,
      "outputs": [
        {
          "output_type": "stream",
          "name": "stdout",
          "text": [
            "Total de compras acima de R$ 3000,00: 7\n",
            "Porcentagem de compras acima de R$ 3000,00: 70.00%\n"
          ]
        }
      ]
    },
    {
      "cell_type": "markdown",
      "source": [
        "#### Questão 3\n",
        "Faça um código que colete em uma lista 5 números inteiros quaisquer e imprima a lista. Exemplo: `[1,4,7,2,4]`."
      ],
      "metadata": {
        "id": "JgCOrE_BMgeD"
      }
    },
    {
      "cell_type": "code",
      "source": [
        "# Inicializa uma lista vazia para armazenar os números\n",
        "numeros = []\n",
        "\n",
        "# Coleta 5 números inteiros do usuário\n",
        "for i in range(5):\n",
        "    numero = int(input(f\"Digite o {i + 1}º número inteiro: \"))\n",
        "    numeros.append(numero)  # Adiciona o número à lista\n",
        "\n",
        "# Imprime a lista de números\n",
        "print(\"A lista de números é:\", numeros)"
      ],
      "metadata": {
        "id": "vtM9O1hLMgeD",
        "colab": {
          "base_uri": "https://localhost:8080/"
        },
        "outputId": "03494460-bd53-4682-d4ff-0a553a042a05"
      },
      "execution_count": null,
      "outputs": [
        {
          "output_type": "stream",
          "name": "stdout",
          "text": [
            "Digite o 1º número inteiro: 1\n",
            "Digite o 2º número inteiro: 2\n",
            "Digite o 3º número inteiro: 3\n",
            "Digite o 4º número inteiro: 4\n",
            "Digite o 5º número inteiro: 5\n",
            "A lista de números é: [1, 2, 3, 4, 5]\n"
          ]
        }
      ]
    },
    {
      "cell_type": "markdown",
      "source": [
        "#### Questão 4\n",
        "Colete novamente 5 inteiros e imprima a lista em ordem inversa à enviada."
      ],
      "metadata": {
        "id": "p3bTp88HMgeD"
      }
    },
    {
      "cell_type": "code",
      "source": [
        "# Inicializa uma lista vazia para armazenar os números\n",
        "numeros = []\n",
        "\n",
        "# Coleta 5 números inteiros do usuário\n",
        "for i in range(5):\n",
        "    numero = int(input(f\"Digite o {i + 1}º número inteiro: \"))\n",
        "    numeros.append(numero)  # Adiciona o número à lista\n",
        "\n",
        "# Imprime a lista de números em ordem inversa\n",
        "print(\"A lista de números em ordem inversa é:\", numeros[::-1])"
      ],
      "metadata": {
        "colab": {
          "base_uri": "https://localhost:8080/"
        },
        "id": "QBESUPRZDoX7",
        "outputId": "5c32b949-5ff9-477c-cff3-8ca109f1f56b"
      },
      "execution_count": null,
      "outputs": [
        {
          "output_type": "stream",
          "name": "stdout",
          "text": [
            "Digite o 1º número inteiro: 1\n",
            "Digite o 2º número inteiro: 2\n",
            "Digite o 3º número inteiro: 3\n",
            "Digite o 4º número inteiro: 4\n",
            "Digite o 5º número inteiro: 5\n",
            "A lista de números em ordem inversa é: [5, 4, 3, 2, 1]\n"
          ]
        }
      ]
    },
    {
      "cell_type": "markdown",
      "source": [
        "#### Questão 5\n",
        "Faça um programa que, ao inserir um número qualquer, criará uma lista contendo todos os números primos entre 1 e o número digitado."
      ],
      "metadata": {
        "id": "eIXd_z1lMgeD"
      }
    },
    {
      "cell_type": "code",
      "source": [
        "def is_prime(num):\n",
        "    \"\"\"Verifica se um número é primo.\"\"\"\n",
        "    if num <= 1:\n",
        "        return False\n",
        "    for i in range(2, int(num**0.5) + 1):\n",
        "        if num % i == 0:\n",
        "            return False\n",
        "    return True\n",
        "\n",
        "def listar_primos(limite):\n",
        "    \"\"\"Cria uma lista de números primos até o limite fornecido.\"\"\"\n",
        "    primos = []\n",
        "    for num in range(2, limite + 1):\n",
        "        if is_prime(num):\n",
        "            primos.append(num)\n",
        "    return primos\n",
        "\n",
        "# Coleta um número do usuário\n",
        "numero = int(input(\"Digite um número: \"))\n",
        "primos_encontrados = listar_primos(numero)\n",
        "\n",
        "# Imprime a lista de números primos\n",
        "print(f\"Números primos entre 1 e {numero}: {primos_encontrados}\")"
      ],
      "metadata": {
        "id": "rj_6GHstMgeE",
        "colab": {
          "base_uri": "https://localhost:8080/"
        },
        "outputId": "c88aaec7-b0de-4b8b-dae2-377797740fdc"
      },
      "execution_count": null,
      "outputs": [
        {
          "output_type": "stream",
          "name": "stdout",
          "text": [
            "Digite um número: 20\n",
            "Números primos entre 1 e 20: [2, 3, 5, 7, 11, 13, 17, 19]\n"
          ]
        }
      ]
    },
    {
      "cell_type": "markdown",
      "source": [
        "#### Questão 6\n",
        "Escreva um programa que peça uma data informando o dia, mês e ano e determine se ela é uma data válida para uma análise."
      ],
      "metadata": {
        "id": "zrbz3ENlMgeE"
      }
    },
    {
      "cell_type": "code",
      "source": [
        "from datetime import datetime\n",
        "\n",
        "def verificar_data(dia, mes, ano):\n",
        "    \"\"\"Verifica se a data é válida.\"\"\"\n",
        "    try:\n",
        "        # Tenta criar um objeto de data\n",
        "        data = datetime(ano, mes, dia)\n",
        "        return True\n",
        "    except ValueError:\n",
        "        # Se ocorrer um ValueError, a data não é válida\n",
        "        return False\n",
        "\n",
        "# Coleta a data do usuário\n",
        "dia = int(input(\"Digite o dia: \"))\n",
        "mes = int(input(\"Digite o mês: \"))\n",
        "ano = int(input(\"Digite o ano: \"))\n",
        "\n",
        "# Verifica se a data é válida\n",
        "if verificar_data(dia, mes, ano):\n",
        "    print(f\"A data {dia}/{mes}/{ano} é válida.\")\n",
        "else:\n",
        "    print(f\"A data {dia}/{mes}/{ano} não é válida.\")"
      ],
      "metadata": {
        "id": "0eYA8UjTMgeE",
        "colab": {
          "base_uri": "https://localhost:8080/"
        },
        "outputId": "956c437f-119f-4cbf-aa62-43b80c3b2c5c"
      },
      "execution_count": null,
      "outputs": [
        {
          "output_type": "stream",
          "name": "stdout",
          "text": [
            "Digite o dia: 32\n",
            "Digite o mês: 02\n",
            "Digite o ano: 1979\n",
            "A data 32/2/1979 não é válida.\n"
          ]
        }
      ]
    },
    {
      "cell_type": "markdown",
      "source": [
        "### Momento dos projetos"
      ],
      "metadata": {
        "id": "ut_4VHdGMgeE"
      }
    },
    {
      "cell_type": "markdown",
      "source": [
        "#### Questão 7\n",
        "Para um estudo envolvendo o nível de multiplicação de bactérias em uma colônia, foi coletado o número de bactérias multiplicadas por dia, com base em um processo de duplicação diária e pode ser observado a seguir: `[1.2, 2.1, 3.3, 5.0, 7.8, 11.3, 16.6, 25.1, 37.8, 56.9]`. Tendo esses valores, faça um código que gere uma lista contendo o percentual de crescimento de bactérias por dia, comparando o número de bactérias em cada dia com o número de bactérias do dia anterior. Dica: para calcular o percentual de crescimento usamos a seguinte equação: `100 * (amostra_atual - amostra_passada) / (amostra_passada)`."
      ],
      "metadata": {
        "id": "G86Z0vD_MgeE"
      }
    },
    {
      "cell_type": "code",
      "source": [
        "# Lista com o número de bactérias multiplicadas por dia\n",
        "bacterias = [1.2, 2.1, 3.3, 5.0, 7.8, 11.3, 16.6, 25.1, 37.8, 56.9]\n",
        "\n",
        "# Lista para armazenar o percentual de crescimento\n",
        "percentual_crescimento = []\n",
        "\n",
        "# Calcula o percentual de crescimento para cada dia, exceto o primeiro\n",
        "for i in range(1, len(bacterias)):\n",
        "    amostra_passada = bacterias[i - 1]\n",
        "    amostra_atual = bacterias[i]\n",
        "\n",
        "    # Calcula o percentual de crescimento\n",
        "    crescimento = 100 * (amostra_atual - amostra_passada) / amostra_passada\n",
        "    percentual_crescimento.append(crescimento)\n",
        "\n",
        "# Exibe os resultados\n",
        "for dia, percentual in enumerate(percentual_crescimento, start=2):\n",
        "    print(f\"Percentual de crescimento do dia {dia} em relação ao dia {dia - 1}: {percentual:.2f}%\")"
      ],
      "metadata": {
        "id": "PXNO_CFkMgeE",
        "colab": {
          "base_uri": "https://localhost:8080/"
        },
        "outputId": "26c9e02c-9668-4ee6-c6be-c5f70859d117"
      },
      "execution_count": null,
      "outputs": [
        {
          "output_type": "stream",
          "name": "stdout",
          "text": [
            "Percentual de crescimento do dia 2 em relação ao dia 1: 75.00%\n",
            "Percentual de crescimento do dia 3 em relação ao dia 2: 57.14%\n",
            "Percentual de crescimento do dia 4 em relação ao dia 3: 51.52%\n",
            "Percentual de crescimento do dia 5 em relação ao dia 4: 56.00%\n",
            "Percentual de crescimento do dia 6 em relação ao dia 5: 44.87%\n",
            "Percentual de crescimento do dia 7 em relação ao dia 6: 46.90%\n",
            "Percentual de crescimento do dia 8 em relação ao dia 7: 51.20%\n",
            "Percentual de crescimento do dia 9 em relação ao dia 8: 50.60%\n",
            "Percentual de crescimento do dia 10 em relação ao dia 9: 50.53%\n"
          ]
        }
      ]
    },
    {
      "cell_type": "markdown",
      "source": [
        "#### Questão 8\n",
        "Para uma seleção de produtos alimentícios, precisamos separar o conjunto de IDs dados por números inteiros, sabendo que os produtos com ID par são doces e os com ID ímpar são amargos. Monte um código que colete 10 IDs. Depois, calcule e mostre a quantidade de produtos doces e amargos."
      ],
      "metadata": {
        "id": "p4nxogpnMgeE"
      }
    },
    {
      "cell_type": "code",
      "source": [
        "# Inicializa contadores para doces e amargos\n",
        "quantidade_doces = 0\n",
        "quantidade_amargos = 0\n",
        "\n",
        "# Coleta 10 IDs de produtos do usuário\n",
        "for i in range(10):\n",
        "    id_produto = int(input(f\"Digite o ID do produto {i + 1}: \"))\n",
        "\n",
        "    # Verifica se o ID é par ou ímpar\n",
        "    if id_produto % 2 == 0:\n",
        "        quantidade_doces += 1  # ID par é doce\n",
        "    else:\n",
        "        quantidade_amargos += 1  # ID ímpar é amargo\n",
        "\n",
        "# Exibe os resultados\n",
        "print(f\"Quantidade de produtos doces (IDs pares): {quantidade_doces}\")\n",
        "print(f\"Quantidade de produtos amargos (IDs ímpares): {quantidade_amargos}\")"
      ],
      "metadata": {
        "id": "WqjO2SZkMgeE",
        "colab": {
          "base_uri": "https://localhost:8080/"
        },
        "outputId": "a128f581-daa0-4640-851e-1f3ed1ac32d7"
      },
      "execution_count": null,
      "outputs": [
        {
          "output_type": "stream",
          "name": "stdout",
          "text": [
            "Digite o ID do produto 1: 1\n",
            "Digite o ID do produto 2: 2\n",
            "Digite o ID do produto 3: 3\n",
            "Digite o ID do produto 4: 4\n",
            "Digite o ID do produto 5: 5\n",
            "Digite o ID do produto 6: 6\n",
            "Digite o ID do produto 7: 9\n",
            "Digite o ID do produto 8: 8\n",
            "Digite o ID do produto 9: 7\n",
            "Digite o ID do produto 10: 55\n",
            "Quantidade de produtos doces (IDs pares): 4\n",
            "Quantidade de produtos amargos (IDs ímpares): 6\n"
          ]
        }
      ]
    },
    {
      "cell_type": "markdown",
      "source": [
        "#### Questão 9\n",
        "Desenvolva um programa que informa a nota de um aluno de acordo com suas respostas. Ele deve pedir a resposta de um aluno para cada questão e é preciso verificar se a resposta foi igual ao gabarito. Cada questão vale um ponto e existem alternativas:  A, B, C ou D.\n",
        "```\n",
        "Gabarito da Prova:\n",
        "01 - D\n",
        "02 - A\n",
        "03 - C\n",
        "04 - B\n",
        "05 - A\n",
        "06 - D\n",
        "07 - C\n",
        "08 - C\n",
        "09 - A\n",
        "10 - B\n",
        "```"
      ],
      "metadata": {
        "id": "t5OrLxV6MgeE"
      }
    },
    {
      "cell_type": "code",
      "source": [
        "# Gabarito da prova\n",
        "gabarito = {\n",
        "    1: 'D',\n",
        "    2: 'A',\n",
        "    3: 'C',\n",
        "    4: 'B',\n",
        "    5: 'A',\n",
        "    6: 'D',\n",
        "    7: 'C',\n",
        "    8: 'C',\n",
        "    9: 'A',\n",
        "    10: 'B'\n",
        "}\n",
        "\n",
        "# Inicializa a nota do aluno\n",
        "nota = 0\n",
        "\n",
        "# Coleta as respostas do aluno\n",
        "for i in range(1, 11):\n",
        "    resposta = input(f\"Digite a resposta da questão {i} (A, B, C ou D): \").upper()\n",
        "\n",
        "    # Verifica se a resposta está correta\n",
        "    if resposta == gabarito[i]:\n",
        "        nota += 1  # Incrementa a nota se a resposta estiver correta\n",
        "\n",
        "# Exibe a nota final do aluno\n",
        "print(f\"A nota final do aluno é: {nota} de 10\")"
      ],
      "metadata": {
        "id": "ytIQDJrQMgeE",
        "colab": {
          "base_uri": "https://localhost:8080/"
        },
        "outputId": "7ba9a98b-e304-494e-f361-b8df9faff4d5"
      },
      "execution_count": null,
      "outputs": [
        {
          "output_type": "stream",
          "name": "stdout",
          "text": [
            "Digite a resposta da questão 1 (A, B, C ou D): a\n",
            "Digite a resposta da questão 2 (A, B, C ou D): c\n",
            "Digite a resposta da questão 3 (A, B, C ou D): d\n",
            "Digite a resposta da questão 4 (A, B, C ou D): b\n",
            "Digite a resposta da questão 5 (A, B, C ou D): b\n",
            "Digite a resposta da questão 6 (A, B, C ou D): a\n",
            "Digite a resposta da questão 7 (A, B, C ou D): c\n",
            "Digite a resposta da questão 8 (A, B, C ou D): c\n",
            "Digite a resposta da questão 9 (A, B, C ou D): b\n",
            "Digite a resposta da questão 10 (A, B, C ou D): d\n",
            "A nota final do aluno é: 3 de 10\n"
          ]
        }
      ]
    },
    {
      "cell_type": "markdown",
      "source": [
        "#### Questão 10\n",
        "Um instituto de meteorologia deseja fazer um estudo de temperatura média de cada mês do ano. Para isso, você precisa fazer um código que colete e armazene essas temperaturas médias em uma lista. Depois, calcule a média anual das temperaturas e mostre todas as temperaturas acima da média anual, e em que mês elas ocorreram, mostrando os meses por extenso: Janeiro, Fevereiro, etc."
      ],
      "metadata": {
        "id": "aSBMzh-AMgeF"
      }
    },
    {
      "cell_type": "code",
      "source": [
        "# Lista com os nomes dos meses\n",
        "meses = [\n",
        "    \"Janeiro\", \"Fevereiro\", \"Março\", \"Abril\", \"Maio\", \"Junho\",\n",
        "    \"Julho\", \"Agosto\", \"Setembro\", \"Outubro\", \"Novembro\", \"Dezembro\"\n",
        "]\n",
        "\n",
        "# Inicializa uma lista para armazenar as temperaturas médias\n",
        "temperaturas = []\n",
        "\n",
        "# Coleta as temperaturas médias de cada mês\n",
        "for mes in meses:\n",
        "    temperatura = float(input(f\"Digite a temperatura média de {mes}: \"))\n",
        "    temperaturas.append(temperatura)\n",
        "\n",
        "# Calcula a média anual das temperaturas\n",
        "media_anual = sum(temperaturas) / len(temperaturas)\n",
        "\n",
        "# Exibe a média anual\n",
        "print(f\"\\nA média anual das temperaturas é: {media_anual:.2f}°C\")\n",
        "\n",
        "# Exibe as temperaturas acima da média anual\n",
        "print(\"Temperaturas acima da média anual:\")\n",
        "for i in range(len(temperaturas)):\n",
        "    if temperaturas[i] > media_anual:\n",
        "        print(f\"{meses[i]}: {temperaturas[i]:.2f}°C\")"
      ],
      "metadata": {
        "id": "ftj04s2uMgeF",
        "colab": {
          "base_uri": "https://localhost:8080/"
        },
        "outputId": "e9eb6a29-301c-4129-a82d-9d564ff11649"
      },
      "execution_count": null,
      "outputs": [
        {
          "output_type": "stream",
          "name": "stdout",
          "text": [
            "Digite a temperatura média de Janeiro: 29\n",
            "Digite a temperatura média de Fevereiro: 32\n",
            "Digite a temperatura média de Março: 28\n",
            "Digite a temperatura média de Abril: 25\n",
            "Digite a temperatura média de Maio: 24\n",
            "Digite a temperatura média de Junho: 22\n",
            "Digite a temperatura média de Julho: 19\n",
            "Digite a temperatura média de Agosto: 20\n",
            "Digite a temperatura média de Setembro: 24\n",
            "Digite a temperatura média de Outubro: 23\n",
            "Digite a temperatura média de Novembro: 25\n",
            "Digite a temperatura média de Dezembro: 28\n",
            "\n",
            "A média anual das temperaturas é: 24.92°C\n",
            "Temperaturas acima da média anual:\n",
            "Janeiro: 29.00°C\n",
            "Fevereiro: 32.00°C\n",
            "Março: 28.00°C\n",
            "Abril: 25.00°C\n",
            "Novembro: 25.00°C\n",
            "Dezembro: 28.00°C\n"
          ]
        }
      ]
    },
    {
      "cell_type": "markdown",
      "source": [
        "#### Questão 11\n",
        "Uma empresa de e-commerce está interessada em analisar as vendas dos seus produtos. Os dados das vendas foram armazenados em um dicionário:\n",
        "```\n",
        "{'Produto A': 300, 'Produto B': 80, 'Produto C': 60,\n",
        " 'Produto D': 200, 'Produto E': 250, 'Produto F': 30}\n",
        "```\n",
        "Escreva um código que calcule o total de vendas e o produto mais vendido."
      ],
      "metadata": {
        "id": "0X8S6s4jMgeF"
      }
    },
    {
      "cell_type": "code",
      "source": [
        "# Dicionário com os dados de vendas\n",
        "vendas = {\n",
        "    'Produto A': 300,\n",
        "    'Produto B': 80,\n",
        "    'Produto C': 60,\n",
        "    'Produto D': 200,\n",
        "    'Produto E': 250,\n",
        "    'Produto F': 30\n",
        "}\n",
        "\n",
        "# Cálculo do total de vendas\n",
        "total_vendas = sum(vendas.values())\n",
        "\n",
        "# Cálculo da média de vendas\n",
        "media_vendas = total_vendas / len(vendas)\n",
        "\n",
        "# Identificação do produto mais vendido\n",
        "produto_mais_vendido = max(vendas, key=vendas.get)\n",
        "\n",
        "# Listagem de produtos abaixo da média\n",
        "produtos_abaixo_media = {produto: quantidade for produto, quantidade in vendas.items() if quantidade < media_vendas}\n",
        "\n",
        "# Resultados\n",
        "print(f\"Total de Vendas: {total_vendas}\")\n",
        "print(f\"Média de Vendas: {media_vendas:.2f}\")\n",
        "print(f\"Produto Mais Vendido: {produto_mais_vendido} com {vendas[produto_mais_vendido]} unidades vendidas\")\n",
        "print(\"Produtos Abaixo da Média:\")\n",
        "for produto, quantidade in produtos_abaixo_media.items():\n",
        "    print(f\"{produto}: {quantidade} unidades\")"
      ],
      "metadata": {
        "id": "Xa3DJLtFMgeF",
        "colab": {
          "base_uri": "https://localhost:8080/"
        },
        "outputId": "468d28a6-91bc-402f-a981-577a278e1056"
      },
      "execution_count": null,
      "outputs": [
        {
          "output_type": "stream",
          "name": "stdout",
          "text": [
            "Total de Vendas: 920\n",
            "Média de Vendas: 153.33\n",
            "Produto Mais Vendido: Produto A com 300 unidades vendidas\n",
            "Produtos Abaixo da Média:\n",
            "Produto B: 80 unidades\n",
            "Produto C: 60 unidades\n",
            "Produto F: 30 unidades\n"
          ]
        }
      ]
    },
    {
      "cell_type": "markdown",
      "source": [
        "#### Questão 12\n",
        "Uma pesquisa de mercado foi feita para decidir qual design de uma marca infantil mais agrada crianças. A pesquisa foi feita e o votos computados podem ser observados abaixo:\n",
        "```\n",
        "'''\n",
        "Tabela de votos da marca\n",
        "Design 1 - 1334 votos\n",
        "Design 2 - 982 votos\n",
        "Design 3 - 1751 votos\n",
        "Design 4 - 210 votos\n",
        "Design 5 - 1811 votos\n",
        "'''\n",
        "```\n",
        "Adapte os dados fornecidos a você para uma estrutura de dicionário e a partir dele, informe o design vencedor e a porcentagem de votos recebidos.\n"
      ],
      "metadata": {
        "id": "nrEwf_1ZMgeF"
      }
    },
    {
      "cell_type": "code",
      "source": [
        "# Dicionário com os votos dos designs\n",
        "votos = {\n",
        "    'Design 1': 1334,\n",
        "    'Design 2': 982,\n",
        "    'Design 3': 1751,\n",
        "    'Design 4': 210,\n",
        "    'Design 5': 1811\n",
        "}\n",
        "\n",
        "# Cálculo do total de votos\n",
        "total_votos = sum(votos.values())\n",
        "\n",
        "# Identificação do design vencedor\n",
        "design_vencedor = max(votos, key=votos.get)\n",
        "votos_vencedor = votos[design_vencedor]\n",
        "\n",
        "# Cálculo da porcentagem de votos do design vencedor\n",
        "porcentagem_vencedor = (votos_vencedor / total_votos) * 100\n",
        "\n",
        "# Resultados\n",
        "print(f\"Design Vencedor: {design_vencedor} com {votos_vencedor} votos\")\n",
        "print(f\"Porcentagem de Votos: {porcentagem_vencedor:.2f}%\")"
      ],
      "metadata": {
        "id": "MRPcGR-_MgeF",
        "colab": {
          "base_uri": "https://localhost:8080/"
        },
        "outputId": "d3aa7557-7615-4b06-afb7-5fa12c4a5c88"
      },
      "execution_count": null,
      "outputs": [
        {
          "output_type": "stream",
          "name": "stdout",
          "text": [
            "Design Vencedor: Design 5 com 1811 votos\n",
            "Porcentagem de Votos: 29.75%\n"
          ]
        }
      ]
    },
    {
      "cell_type": "markdown",
      "source": [
        "#### Questão 13\n",
        "Os funcionários de um setor da empresa que você trabalha vão receber um abono correspondente a 10% do seu salário devido ao ótimo desempenho do time. O setor financeiro solicitou sua ajuda para a verificação das consequências financeiras que esse abono irá gerar nos recursos. Assim, foi encaminhada para você uma lista com os salários que receberão o abono: `[1172, 1644, 2617, 5130, 5532, 6341, 6650, 7238, 7685, 7782, 7903]`. O abono de cada funcionário não pode ser inferior a 200. Em código, transforme cada um dos salários em chaves de um dicionário e o abono de cada salário no elemento. Depois, informe o total de gastos com o abono, quantos funcionários receberam o abono mínimo e qual o maior valor de abono fornecido.\n"
      ],
      "metadata": {
        "id": "HRTFFzKIMgeF"
      }
    },
    {
      "cell_type": "code",
      "source": [
        "# Lista de salários\n",
        "salarios = [1172, 1644, 2617, 5130, 5532, 6341, 6650, 7238, 7685, 7782, 7903]\n",
        "\n",
        "# Dicionário para armazenar os abonos\n",
        "abonos = {}\n",
        "\n",
        "# Inicializa variáveis para cálculos\n",
        "total_gastos = 0\n",
        "funcionarios_abono_minimo = 0\n",
        "maior_abono = 0\n",
        "\n",
        "# Cálculo dos abonos\n",
        "for salario in salarios:\n",
        "    abono = salario * 0.10  # 10% do salário\n",
        "    if abono < 200:  # Se o abono for menor que 200, ajusta para 200\n",
        "        abono = 200\n",
        "        funcionarios_abono_minimo += 1  # Conta funcionário que recebeu o abono mínimo\n",
        "    abonos[salario] = abono  # Adiciona ao dicionário\n",
        "    total_gastos += abono  # Soma ao total de gastos\n",
        "    if abono > maior_abono:  # Verifica se é o maior abono\n",
        "        maior_abono = abono\n",
        "\n",
        "# Resultados\n",
        "print(\"Abonos por funcionário:\")\n",
        "for salario, abono in abonos.items():\n",
        "    print(f\"Salário: {salario}, Abono: {abono:.2f}\")\n",
        "\n",
        "print(f\"\\nTotal de gastos com o abono: {total_gastos:.2f}\")\n",
        "print(f\"Número de funcionários que receberam o abono mínimo: {funcionarios_abono_minimo}\")\n",
        "print(f\"Maior valor de abono fornecido: {maior_abono:.2f}\")"
      ],
      "metadata": {
        "id": "QsDSCua42bLB",
        "colab": {
          "base_uri": "https://localhost:8080/"
        },
        "outputId": "4b189db6-0c5b-4602-8ac8-9c4aa3a6eaf9"
      },
      "execution_count": 17,
      "outputs": [
        {
          "output_type": "stream",
          "name": "stdout",
          "text": [
            "Abonos por funcionário:\n",
            "Salário: 1172, Abono: 200.00\n",
            "Salário: 1644, Abono: 200.00\n",
            "Salário: 2617, Abono: 261.70\n",
            "Salário: 5130, Abono: 513.00\n",
            "Salário: 5532, Abono: 553.20\n",
            "Salário: 6341, Abono: 634.10\n",
            "Salário: 6650, Abono: 665.00\n",
            "Salário: 7238, Abono: 723.80\n",
            "Salário: 7685, Abono: 768.50\n",
            "Salário: 7782, Abono: 778.20\n",
            "Salário: 7903, Abono: 790.30\n",
            "\n",
            "Total de gastos com o abono: 6087.80\n",
            "Número de funcionários que receberam o abono mínimo: 2\n",
            "Maior valor de abono fornecido: 790.30\n"
          ]
        }
      ]
    },
    {
      "cell_type": "markdown",
      "source": [
        "#### Questão 14\n",
        "Uma equipe de cientistas de dados está estudando a diversidade biológica em uma floresta. A equipe fez a coleta de informações sobre o número de espécies de plantas e animais em cada área da floresta e armazenaram essas informações em um dicionário. Nele, a chave descreve a área dos dados e os valores nas listas correspondem às espécies de plantas e animais nas áreas, respectivamente.\n",
        "```\n",
        "{'Área Norte': [2819, 7236],\n",
        " 'Área Leste': [1440, 9492],\n",
        " 'Área Sul': [5969, 7496],\n",
        " 'Área Oeste': [14446, 49688],\n",
        " 'Área Centro': [22558, 45148]}\n",
        "```\n",
        "Escreva um código para calcular a média de espécies por área e identificar a área com a maior diversidade biológica. Dica: use as funções built-in [`sum()`](https://docs.python.org/3/library/functions.html#sum) e [`len()`](https://docs.python.org/3/library/functions.html#len).\n"
      ],
      "metadata": {
        "id": "6dEXZEwjMlWy"
      }
    },
    {
      "cell_type": "code",
      "source": [
        "# Dicionário com as informações sobre a diversidade biológica\n",
        "diversidade = {\n",
        "    'Área Norte': [2819, 7236],\n",
        "    'Área Leste': [1440, 9492],\n",
        "    'Área Sul': [5969, 7496],\n",
        "    'Área Oeste': [14446, 49688],\n",
        "    'Área Centro': [22558, 45148]\n",
        "}\n",
        "\n",
        "# Inicializa variáveis para cálculos\n",
        "maior_diversidade = 0\n",
        "area_maior_diversidade = \"\"\n",
        "media_por_area = {}\n",
        "\n",
        "# Cálculo da média de espécies por área e identificação da área com maior diversidade\n",
        "for area, especies in diversidade.items():\n",
        "    total_especies = sum(especies)  # Soma das espécies na área\n",
        "    media = total_especies / len(especies)  # Cálculo da média\n",
        "    media_por_area[area] = media  # Armazena a média por área\n",
        "\n",
        "    # Verifica se esta área tem a maior diversidade\n",
        "    if total_especies > maior_diversidade:\n",
        "        maior_diversidade = total_especies\n",
        "        area_maior_diversidade = area\n",
        "\n",
        "# Resultados\n",
        "print(\"Média de espécies por área:\")\n",
        "for area, media in media_por_area.items():\n",
        "    print(f\"{area}: {media:.2f}\")\n",
        "\n",
        "print(f\"\\nÁrea com a maior diversidade biológica: {area_maior_diversidade} com {maior_diversidade} espécies.\")"
      ],
      "metadata": {
        "id": "eQnOUDfYMlWy",
        "colab": {
          "base_uri": "https://localhost:8080/"
        },
        "outputId": "f2896cc7-321b-4e7d-8368-8b989ea14251"
      },
      "execution_count": 18,
      "outputs": [
        {
          "output_type": "stream",
          "name": "stdout",
          "text": [
            "Média de espécies por área:\n",
            "Área Norte: 5027.50\n",
            "Área Leste: 5466.00\n",
            "Área Sul: 6732.50\n",
            "Área Oeste: 32067.00\n",
            "Área Centro: 33853.00\n",
            "\n",
            "Área com a maior diversidade biológica: Área Centro com 67706 espécies.\n"
          ]
        }
      ]
    },
    {
      "cell_type": "markdown",
      "source": [
        "#### Questão 15\n",
        "O setor de RH da sua empresa te pediu uma ajuda para analisar as idades dos funcionários de 4 setores da empresa. Para isso, ele te forneceu os seguintes dados:\n",
        "```\n",
        "{'Setor A': [22, 26, 30, 30, 35, 38, 40, 56, 57, 65],\n",
        " 'Setor B': [22, 24, 26, 33, 41, 49, 50, 54, 60, 64],\n",
        " 'Setor C': [23, 26, 26, 29, 34, 35, 36, 41, 52, 56],\n",
        " 'Setor D': [19, 20, 25, 27, 34, 39, 42, 44, 50, 65]}\n",
        "```\n",
        "Sabendo que cada setor tem 10 funcionários, construa um código que calcule a média de idade de cada setor, a idade média geral entre todos os setores e quantas pessoas estão acima da idade média geral.\n"
      ],
      "metadata": {
        "id": "r0RW2Sy_MlWy"
      }
    },
    {
      "cell_type": "code",
      "source": [
        "# Dicionário com as idades dos funcionários por setor\n",
        "idades = {\n",
        "    'Setor A': [22, 26, 30, 30, 35, 38, 40, 56, 57, 65],\n",
        "    'Setor B': [22, 24, 26, 33, 41, 49, 50, 54, 60, 64],\n",
        "    'Setor C': [23, 26, 26, 29, 34, 35, 36, 41, 52, 56],\n",
        "    'Setor D': [19, 20, 25, 27, 34, 39, 42, 44, 50, 65]\n",
        "}\n",
        "\n",
        "# Inicializa variáveis para cálculos\n",
        "media_por_setor = {}\n",
        "total_idades = []\n",
        "total_funcionarios = 0\n",
        "\n",
        "# Cálculo da média de idade por setor e coleta de todas as idades\n",
        "for setor, idades_setor in idades.items():\n",
        "    media_setor = sum(idades_setor) / len(idades_setor)  # Média do setor\n",
        "    media_por_setor[setor] = media_setor  # Armazena a média do setor\n",
        "    total_idades.extend(idades_setor)  # Adiciona as idades ao total\n",
        "    total_funcionarios += len(idades_setor)  # Contagem total de funcionários\n",
        "\n",
        "# Cálculo da média geral\n",
        "media_geral = sum(total_idades) / total_funcionarios\n",
        "\n",
        "# Contagem de funcionários acima da média geral\n",
        "funcionarios_acima_media = sum(1 for idade in total_idades if idade > media_geral)\n",
        "\n",
        "# Resultados\n",
        "print(\"Média de idade por setor:\")\n",
        "for setor, media in media_por_setor.items():\n",
        "    print(f\"{setor}: {media:.2f}\")\n",
        "\n",
        "print(f\"\\nMédia geral de idade: {media_geral:.2f}\")\n",
        "print(f\"Número de funcionários acima da média geral: {funcionarios_acima_media}\")"
      ],
      "metadata": {
        "id": "wCiwyKP3MmTz",
        "colab": {
          "base_uri": "https://localhost:8080/"
        },
        "outputId": "70889aa0-d50d-4275-c40e-373aa82e50d1"
      },
      "execution_count": 19,
      "outputs": [
        {
          "output_type": "stream",
          "name": "stdout",
          "text": [
            "Média de idade por setor:\n",
            "Setor A: 39.90\n",
            "Setor B: 42.30\n",
            "Setor C: 35.80\n",
            "Setor D: 36.50\n",
            "\n",
            "Média geral de idade: 38.62\n",
            "Número de funcionários acima da média geral: 18\n"
          ]
        }
      ]
    }
  ]
}